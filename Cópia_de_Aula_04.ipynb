{
  "nbformat": 4,
  "nbformat_minor": 0,
  "metadata": {
    "colab": {
      "provenance": [],
      "include_colab_link": true
    },
    "kernelspec": {
      "name": "python3",
      "display_name": "Python 3"
    },
    "language_info": {
      "name": "python"
    }
  },
  "cells": [
    {
      "cell_type": "markdown",
      "metadata": {
        "id": "view-in-github",
        "colab_type": "text"
      },
      "source": [
        "<a href=\"https://colab.research.google.com/github/danilot1/intensivo-python/blob/main/C%C3%B3pia_de_Aula_04.ipynb\" target=\"_parent\"><img src=\"https://colab.research.google.com/assets/colab-badge.svg\" alt=\"Open In Colab\"/></a>"
      ]
    },
    {
      "cell_type": "markdown",
      "source": [
        "# ATIVIDADE DE OPERAÇÕES BÁSICAS DE LISTAS"
      ],
      "metadata": {
        "id": "fCtXc34VCEl7"
      }
    },
    {
      "cell_type": "markdown",
      "source": [
        "Crie uma lista chamada ‘numeros’ contendo os números de 0 a 10;"
      ],
      "metadata": {
        "id": "ogaAVsMpAfSx"
      }
    },
    {
      "cell_type": "code",
      "execution_count": null,
      "metadata": {
        "id": "FqSYYQZDASfD"
      },
      "outputs": [],
      "source": [
        "numeros = [0,1,2,3,4,5,6,7,8,9,10]"
      ]
    },
    {
      "cell_type": "markdown",
      "source": [
        "Imprima na tela o tamanho da lista usando o comando print( );"
      ],
      "metadata": {
        "id": "heU_N6lWAg_B"
      }
    },
    {
      "cell_type": "code",
      "source": [
        "numeros = [0,1,2,3,4,5,6,7,8,9,10]\n",
        "tamanho = len(numeros)\n",
        "print(tamanho)"
      ],
      "metadata": {
        "id": "fzUTGV2qAj_j",
        "colab": {
          "base_uri": "https://localhost:8080/"
        },
        "outputId": "ca14653b-6f24-4a62-c7fa-05d390d01c6e"
      },
      "execution_count": null,
      "outputs": [
        {
          "output_type": "stream",
          "name": "stdout",
          "text": [
            "11\n"
          ]
        }
      ]
    },
    {
      "cell_type": "markdown",
      "source": [
        "Crie uma lista com 4 nomes quaisquer;\n"
      ],
      "metadata": {
        "id": "Geu1eFRFAkHP"
      }
    },
    {
      "cell_type": "code",
      "source": [
        "nomes = [\"Paulo\", \"Pedro\", \"João\", \"José\"]"
      ],
      "metadata": {
        "id": "QPmCE6sGAmnR"
      },
      "execution_count": null,
      "outputs": []
    },
    {
      "cell_type": "markdown",
      "source": [
        "Imprima na tela os 4 nomes da lista que você criou usando a estrutura ‘for’.\n"
      ],
      "metadata": {
        "id": "5N5rMYrJAnJr"
      }
    },
    {
      "cell_type": "code",
      "source": [
        "for x in range(0,1):\n",
        "  nomes = [\"Paulo\", \"Pedro\", \"João\", \"José\"]\n",
        "  print(nomes)"
      ],
      "metadata": {
        "id": "744u8cMkApGU",
        "colab": {
          "base_uri": "https://localhost:8080/"
        },
        "outputId": "f2ad223d-7849-4490-fff4-a04a9e2fb516"
      },
      "execution_count": null,
      "outputs": [
        {
          "output_type": "stream",
          "name": "stdout",
          "text": [
            "['Paulo', 'Pedro', 'João', 'José']\n"
          ]
        }
      ]
    },
    {
      "cell_type": "markdown",
      "source": [
        "Copie esta lista: [1, “teste”, 8.67, 90, “casa”, ‘a’, 12.34, 1, 0, “bola”, False, 23, “hello”] para uma variável chamada  ‘diversos’. Em seguida, informe na tela a mensagem: “O tamanho dessa lista é ____”. (Obs. caso você copie e o VScode acuse erro, digite as aspas novamente)."
      ],
      "metadata": {
        "id": "GyPK_mqPAp5_"
      }
    },
    {
      "cell_type": "code",
      "source": [
        "diversos = [1, \"teste\", 8.67, 90, \"casa\", 'a', 12.34, 1, 0, \"bola\", False, 23, \"hello\"]\n",
        "tamanho = len(diversos)\n",
        "print(\"O tamanho dessa lista é \",tamanho)"
      ],
      "metadata": {
        "id": "yDHZcH_PAsZf",
        "colab": {
          "base_uri": "https://localhost:8080/"
        },
        "outputId": "62132839-b2fc-4120-ce9e-2a4e57e9066d"
      },
      "execution_count": null,
      "outputs": [
        {
          "output_type": "stream",
          "name": "stdout",
          "text": [
            "O tamanho dessa lista é  13\n"
          ]
        }
      ]
    },
    {
      "cell_type": "markdown",
      "source": [
        "Com a lista acima em seu editor de códigos, imprimia na tela todos os itens dessa lista. (Use o ‘for’)"
      ],
      "metadata": {
        "id": "THeAV3f_AuFk"
      }
    },
    {
      "cell_type": "code",
      "source": [
        "for x in range(0,1):\n",
        "  diversos = [1, \"teste\", 8.67, 90, \"casa\", 'a', 12.34, 1, 0, \"bola\", False, 23, \"hello\"]\n",
        "  print(diversos)"
      ],
      "metadata": {
        "id": "BDJt6TqjAw1w",
        "colab": {
          "base_uri": "https://localhost:8080/"
        },
        "outputId": "a4422543-16c4-4a6b-88c5-3991a7e16b21"
      },
      "execution_count": null,
      "outputs": [
        {
          "output_type": "stream",
          "name": "stdout",
          "text": [
            "[1, 'teste', 8.67, 90, 'casa', 'a', 12.34, 1, 0, 'bola', False, 23, 'hello']\n"
          ]
        }
      ]
    },
    {
      "cell_type": "markdown",
      "source": [
        "Ainda com a mesma lista acima, imprima os tipos dos dados de todos os itens dessa lista. (Obs. Pesquise rapidamente como saber o tipo de um dado em python usando a função type( ))"
      ],
      "metadata": {
        "id": "USg4ByPUAw9y"
      }
    },
    {
      "cell_type": "code",
      "source": [
        "for x in range(0,1):\n",
        "  diversos = [1, \"teste\", 8.67, 90, \"casa\", 'a', 12.34, 1, 0, \"bola\", False, 23, \"hello\"]\n",
        "  print(type(diversos))"
      ],
      "metadata": {
        "id": "tV_I94KgAzNo",
        "colab": {
          "base_uri": "https://localhost:8080/"
        },
        "outputId": "3d15e09b-feab-4dd3-8e45-316b62ca873b"
      },
      "execution_count": null,
      "outputs": [
        {
          "output_type": "stream",
          "name": "stdout",
          "text": [
            "<class 'list'>\n"
          ]
        }
      ]
    },
    {
      "cell_type": "markdown",
      "source": [
        "Com a lista acima, acesse diretamente o item 7, e imprima na tela a mensagem: “O elemento ____ é do tipo ____”;"
      ],
      "metadata": {
        "id": "JEYPR13GAzTR"
      }
    },
    {
      "cell_type": "code",
      "source": [
        "for x in range(0,1):\n",
        "  diversos = [1, \"teste\", 8.67, 90, \"casa\", 'a', 12.34, 1, 0, \"bola\", False, 23, \"hello\"]\n",
        "  print(\"O elemento\", diversos[7] , \"é do tipo\", type(diversos[7]))"
      ],
      "metadata": {
        "id": "IeObkkeOA1ch",
        "colab": {
          "base_uri": "https://localhost:8080/"
        },
        "outputId": "a6f4b997-0c7a-4d00-d990-bafff0d37b3d"
      },
      "execution_count": null,
      "outputs": [
        {
          "output_type": "stream",
          "name": "stdout",
          "text": [
            "O elemento 1 é do tipo <class 'int'>\n"
          ]
        }
      ]
    },
    {
      "cell_type": "markdown",
      "source": [
        "Imprima a lista ‘diversos’ na tela, em seguida atribua o valor “hello world” ao item 4. Imprima a lista inteira novamente. (Para atribuir um valor em um item específico de uma lista use lista[indice] = valor) ;"
      ],
      "metadata": {
        "id": "TsZwkIDSA1kP"
      }
    },
    {
      "cell_type": "markdown",
      "source": [
        "# PRINCIPAIS MÉTODOS EM  LISTAS"
      ],
      "metadata": {
        "id": "WhUXhSJUA4tt"
      }
    },
    {
      "cell_type": "markdown",
      "source": [
        "Crie uma lista vazia. Em seguida utilize o método append( ) para adicionar 4 elementos;"
      ],
      "metadata": {
        "id": "20HoqDGIA74P"
      }
    },
    {
      "cell_type": "code",
      "source": [
        "veiculos = []\n",
        "veiculos.append(\"carro\")\n",
        "veiculos.append(\"moto\")\n",
        "veiculos.append(\"caminhão\")\n",
        "veiculos.append(\"bicicleta\")\n",
        "print(veiculos)"
      ],
      "metadata": {
        "id": "ue4WMmY-A9yZ",
        "colab": {
          "base_uri": "https://localhost:8080/"
        },
        "outputId": "b6e7cbd4-4880-4c29-9d42-f339de5406c3"
      },
      "execution_count": null,
      "outputs": [
        {
          "output_type": "stream",
          "name": "stdout",
          "text": [
            "['carro', 'moto', 'caminhão', 'bicicleta']\n"
          ]
        }
      ]
    },
    {
      "cell_type": "markdown",
      "source": [
        "Crie um ‘for’ de varie no intervalo de 1 a 10. Em seguida adicione cada número desses em uma lista criada previamente."
      ],
      "metadata": {
        "id": "OYvEFGiuA97K"
      }
    },
    {
      "cell_type": "code",
      "source": [
        "lista = []\n",
        "for x in range(0,10+1):\n",
        "  lista.append(x)\n",
        "  print(lista)"
      ],
      "metadata": {
        "id": "sE1il7XeBAwZ",
        "colab": {
          "base_uri": "https://localhost:8080/"
        },
        "outputId": "53914c57-be2a-4087-c911-3b7d20468ba4"
      },
      "execution_count": null,
      "outputs": [
        {
          "output_type": "stream",
          "name": "stdout",
          "text": [
            "[0]\n",
            "[0, 1]\n",
            "[0, 1, 2]\n",
            "[0, 1, 2, 3]\n",
            "[0, 1, 2, 3, 4]\n",
            "[0, 1, 2, 3, 4, 5]\n",
            "[0, 1, 2, 3, 4, 5, 6]\n",
            "[0, 1, 2, 3, 4, 5, 6, 7]\n",
            "[0, 1, 2, 3, 4, 5, 6, 7, 8]\n",
            "[0, 1, 2, 3, 4, 5, 6, 7, 8, 9]\n",
            "[0, 1, 2, 3, 4, 5, 6, 7, 8, 9, 10]\n"
          ]
        }
      ]
    },
    {
      "cell_type": "markdown",
      "source": [
        "Crie um algoritmo que solicite ao usuário 3 nomes. Adicione os nomes a uma lista. Em seguida, imprima um a um esses nomes na tela."
      ],
      "metadata": {
        "id": "LmTVae7fBA4f"
      }
    },
    {
      "cell_type": "code",
      "source": [
        "nome1 = input(\"Digite seu nome: \")\n",
        "nome2 = input(\"Digite seu nome: \")\n",
        "nome3 = input(\"Digite seu nome: \")\n",
        "lista1 = []\n",
        "lista1.append(nome1)\n",
        "lista1.append(nome2)\n",
        "lista1.append(nome3)\n",
        "print(lista1)\n"
      ],
      "metadata": {
        "id": "sFcI_tT4BDUP",
        "colab": {
          "base_uri": "https://localhost:8080/"
        },
        "outputId": "119e68b8-0464-4923-c830-7b82e1a5dcad"
      },
      "execution_count": null,
      "outputs": [
        {
          "output_type": "stream",
          "name": "stdout",
          "text": [
            "Digite seu nome: Miguel\n",
            "Digite seu nome: Gabriel\n",
            "Digite seu nome: Joel\n",
            "['Miguel', 'Gabriel', 'Joel']\n"
          ]
        }
      ]
    },
    {
      "cell_type": "markdown",
      "source": [
        "Crie e nomeie a lista [1, 2, 3, 4] no seu editor de texto. Em seguida insira o valor 0 no início da lista e o valor 5 no final da lista;"
      ],
      "metadata": {
        "id": "RdZ4p_g_BDa8"
      }
    },
    {
      "cell_type": "code",
      "source": [
        "lista = [1,2,3,4]\n",
        "lista.insert(0,0)\n",
        "lista.append(5)\n",
        "print(lista)\n"
      ],
      "metadata": {
        "id": "gPym_SbwBF8I",
        "colab": {
          "base_uri": "https://localhost:8080/"
        },
        "outputId": "2aed257a-7ef2-4379-f59b-2f8cdab7193e"
      },
      "execution_count": null,
      "outputs": [
        {
          "output_type": "stream",
          "name": "stdout",
          "text": [
            "[0, 1, 2, 3, 4, 5]\n"
          ]
        }
      ]
    },
    {
      "cell_type": "markdown",
      "source": [
        "Com a mesma lista acima, remova o item ‘3’, e insira em seu lugar o texto ‘hello’\n"
      ],
      "metadata": {
        "id": "Nq8gkyqsBGDg"
      }
    },
    {
      "cell_type": "code",
      "source": [
        "lista = [1,2,3,4]\n",
        "lista.remove(3)\n",
        "lista.insert(2, \"hello\")\n",
        "print(lista)"
      ],
      "metadata": {
        "id": "YPSlFG9XBH8q",
        "colab": {
          "base_uri": "https://localhost:8080/"
        },
        "outputId": "8f4b5a7a-5610-452c-ef22-884d4409f642"
      },
      "execution_count": null,
      "outputs": [
        {
          "output_type": "stream",
          "name": "stdout",
          "text": [
            "[1, 2, 'hello', 4]\n"
          ]
        }
      ]
    },
    {
      "cell_type": "markdown",
      "source": [
        "Crie um laço que permaneça executando enquanto o usuário digitar um número diferente de 0. A cada valor diferente de zero imprima “Você digitou ___” e adicione esse valor a uma lista. No final quando o usuário digitar 0, imprimia, “Você digitou 0, o programa foi encerrado”. E imprima a lista com todos os números digitados pelo usuário."
      ],
      "metadata": {
        "id": "AMd_XhRkBIDq"
      }
    },
    {
      "cell_type": "code",
      "source": [
        "lista = []\n",
        "valor = int(input(\"Digite seu valor: \"))\n",
        "while valor != 0:\n",
        "  print (\"você digitou\", valor)\n",
        "  valor = int(input(\"Digite seu valor: \"))\n",
        "  lista.append(valor)\n",
        "if valor == 0:\n",
        "  print(\"Você digitou 0 e o programa doi encerrado\")\n",
        "  print(lista)"
      ],
      "metadata": {
        "id": "Dc16w7sjBLGH",
        "colab": {
          "base_uri": "https://localhost:8080/"
        },
        "outputId": "c9385c4a-bab3-440d-fe50-880eb19d5078"
      },
      "execution_count": null,
      "outputs": [
        {
          "output_type": "stream",
          "name": "stdout",
          "text": [
            "Digite seu valor: 1\n",
            "você digitou 1\n",
            "Digite seu valor: 2\n",
            "você digitou 2\n",
            "Digite seu valor: 0\n",
            "Você digitou 0 e o programa doi encerrado\n",
            "[2, 0]\n"
          ]
        }
      ]
    },
    {
      "cell_type": "markdown",
      "source": [
        "Crie uma lista contendo todos os números pares entre 0 e 20 e adicione todos em uma lista chamada ‘pares’. Em seguida, use o método pop( ) e remova o elemento no índice 4 e mostre a mensagem: “O elemento 4 é o ____”."
      ],
      "metadata": {
        "id": "SXF7N3_tBLS7"
      }
    },
    {
      "cell_type": "code",
      "source": [
        "lista =  [0,2,4,6,8,10,12,14,16,18,20]\n",
        "lista.pop(4) \n",
        "\n",
        "print(\"O elemento 4 é o\", lista[4])"
      ],
      "metadata": {
        "id": "H4KS-fEABNT8",
        "colab": {
          "base_uri": "https://localhost:8080/"
        },
        "outputId": "e3609fa1-d59a-4748-d8c6-def2bf6d1d0f"
      },
      "execution_count": null,
      "outputs": [
        {
          "output_type": "stream",
          "name": "stdout",
          "text": [
            "O elemento 4 é o 10\n"
          ]
        }
      ]
    },
    {
      "cell_type": "markdown",
      "source": [
        "Crie uma lista chamada nomes, contendo 5 nomes quaisquer. Em seguida, extraia uma sub-lista contendo do segundo ao quarto nome. "
      ],
      "metadata": {
        "id": "7bW8AB4ABNb4"
      }
    },
    {
      "cell_type": "code",
      "source": [
        "nomes = [\"Jimmy\" , \"Gary\", \"Russel\", \"Johnny\",\"Zoe\"]\n",
        "print(nomes[1:4])\n"
      ],
      "metadata": {
        "id": "tVeNowozBPiB",
        "colab": {
          "base_uri": "https://localhost:8080/"
        },
        "outputId": "35303cb9-ef8a-470a-f1d8-d00383305f50"
      },
      "execution_count": null,
      "outputs": [
        {
          "output_type": "stream",
          "name": "stdout",
          "text": [
            "['Gary', 'Russel', 'Johnny']\n"
          ]
        }
      ]
    },
    {
      "cell_type": "markdown",
      "source": [
        "Solicite ao usuário que informe 10 números inteiros. Armazene em uma lista. Em seguida, imprima a lista ordenada de forma crescente e também decrescente."
      ],
      "metadata": {
        "id": "bxW9L9wKBPx1"
      }
    },
    {
      "cell_type": "code",
      "source": [
        "lista = []\n",
        "for x in range(0,10):\n",
        "  numero = int(input(\"Digite seu número: \"))\n",
        "  lista.append(numero)\n",
        "print(lista)\n",
        "lista.sort(reverse=True)\n",
        "print(lista)"
      ],
      "metadata": {
        "id": "nRuVTVdZBR-s",
        "colab": {
          "base_uri": "https://localhost:8080/"
        },
        "outputId": "13513f0a-2c31-422f-990e-151731519def"
      },
      "execution_count": null,
      "outputs": [
        {
          "output_type": "stream",
          "name": "stdout",
          "text": [
            "Digite seu número: 33\n",
            "Digite seu número: 334\n",
            "Digite seu número: 2221\n",
            "Digite seu número: 3334\n",
            "Digite seu número: 11\n",
            "Digite seu número: 87\n",
            "Digite seu número: 109\n",
            "Digite seu número: 4\n",
            "Digite seu número: 455\n",
            "Digite seu número: 333\n",
            "[33, 334, 2221, 3334, 11, 87, 109, 4, 455, 333]\n",
            "[3334, 2221, 455, 334, 333, 109, 87, 33, 11, 4]\n"
          ]
        }
      ]
    },
    {
      "cell_type": "markdown",
      "source": [
        "Utilizando listas, faça um programa que faça 5 perguntas para uma pessoa sobre um crime. O usuário deve digitar 0 para não e 1 para sim. As perguntas são:\n",
        "\n",
        "* \"Telefonou para a vítima?\"\n",
        "* \"Esteve no local do crime?\"\n",
        "* \"Mora perto da vítima?\"\n",
        "* \"Devia para a vítima?\"\n",
        "* \"Já trabalhou com a vítima?\" \n",
        "\n",
        "O programa deve no final emitir uma classificação sobre a participação da pessoa no crime. \n",
        "Se a pessoa responder positivamente a 2 questões ela deve ser classificada como \"Suspeita\", entre 3 e 4 como \"Cúmplice\" e 5 como \"Assassino\". Caso contrário, ele será classificado como \"Inocente\". Utilize a estrutura:\n",
        "\n",
        "perguntas = [\"Telefonou para a vítima?\", \"Esteve no local do crime?\", \"Mora perto da vítima?\",  \"Devia para a vítima?\", \"Já trabalhou com a vítima?\" ]\n",
        "respostas = [ ]"
      ],
      "metadata": {
        "id": "YIdcDkg8BSLe"
      }
    },
    {
      "cell_type": "code",
      "source": [
        "respostas = []\n",
        "perguntas = [\"Telefonou para a vítima?\", \"Esteve no local do crime?\", \"Mora perto da vítima?\", \"Devia para a vítima?\", \"Já trabalhou com a vítima?\" ]\n",
        "for x in perguntas: \n",
        "  resposta =int(input(x))\n",
        "  if resposta == 0:\n",
        "    respostas.append(\"não\")\n",
        "  elif resposta == 1:\n",
        "    respostas.append(\"sim\")\n",
        "sim = respostas.count(\"sim\") \n",
        "if sim == 2:\n",
        "  print(\"Suspeita\")\n",
        "elif sim >=3 and sim <=4:\n",
        "  print(\"Cúmplice\")\n",
        "elif sim == 5:\n",
        "  print(\"Assassino\")\n",
        "elif sim >= 0 and sim <=1:\n",
        "  print(\"inocente\")\n",
        "\n",
        "\n",
        "\n",
        "\n",
        "    \n",
        "\n",
        "\n",
        "\n"
      ],
      "metadata": {
        "id": "8kQ1PPqTBhpK",
        "colab": {
          "base_uri": "https://localhost:8080/"
        },
        "outputId": "88c2d780-71e1-4031-84ec-acaed467ed5f"
      },
      "execution_count": null,
      "outputs": [
        {
          "output_type": "stream",
          "name": "stdout",
          "text": [
            "Telefonou para a vítima?1\n",
            "Esteve no local do crime?1\n",
            "Mora perto da vítima?1\n",
            "Devia para a vítima?0\n",
            "Já trabalhou com a vítima?0\n",
            "Cúmplice\n"
          ]
        }
      ]
    },
    {
      "cell_type": "markdown",
      "source": [
        "# PRINCIPAIS OPERAÇÕES COM TUPLAS\n"
      ],
      "metadata": {
        "id": "4GupfkJ4BjpU"
      }
    },
    {
      "cell_type": "markdown",
      "source": [
        "Declare uma tupla vazia , uma contendo 5 nomes a sua escolha e uma contendo um único email."
      ],
      "metadata": {
        "id": "mzMaERwsBlIE"
      }
    },
    {
      "cell_type": "code",
      "source": [
        "tupla1 = ()\n",
        "tupla2 = \"Jorge\" , \"caio\", \"carlos\" ,\"marcos\",\"sergio\"\n",
        "tupla4 = \"borba@hotmail.com\" ,"
      ],
      "metadata": {
        "id": "fkiPQeqlBnqJ"
      },
      "execution_count": null,
      "outputs": []
    },
    {
      "cell_type": "markdown",
      "source": [
        "Imprima a tupla inteira, e em seguida use um for para imprimir o nome que escolheu e o índice que ele se encontra na tupla. Ex. “O nome ___ está armazenado no índice ___”"
      ],
      "metadata": {
        "id": "t8IwPNXCBnyl"
      }
    },
    {
      "cell_type": "code",
      "source": [
        "tupla2 = \"Jorge\" , \"caio\", \"carlos\" ,\"marcos\",\"sergio\"\n",
        "for x in tupla2:\n",
        "  print(\"O nome\",[x],\"está armazenado no índice\",tupla2.index(x))\n"
      ],
      "metadata": {
        "id": "HmvIxlhRBp6A",
        "colab": {
          "base_uri": "https://localhost:8080/"
        },
        "outputId": "e2410e8f-59b3-4b0d-decf-675e23e46ba7"
      },
      "execution_count": null,
      "outputs": [
        {
          "output_type": "stream",
          "name": "stdout",
          "text": [
            "O nome ['Jorge'] está armazenado no índice 0\n",
            "O nome ['caio'] está armazenado no índice 1\n",
            "O nome ['carlos'] está armazenado no índice 2\n",
            "O nome ['marcos'] está armazenado no índice 3\n",
            "O nome ['sergio'] está armazenado no índice 4\n"
          ]
        }
      ]
    },
    {
      "cell_type": "markdown",
      "source": [
        "Utilizando tuplas, faça uma atribuição com múltiplas variáveis, use nome, login e e-mail. Em seguida imprima em prints separados as três variáveis."
      ],
      "metadata": {
        "id": "i7RS6n3jBqBq"
      }
    },
    {
      "cell_type": "code",
      "source": [
        "nome = \"Joel\",\n",
        "login = \"joel@hotmail.com\", \"joel123\",\n",
        "email = \"joel@hotmail.com\",\n",
        "print(nome)\n",
        "print(login)\n",
        "print(email)"
      ],
      "metadata": {
        "id": "sUiMqpxHBs31",
        "colab": {
          "base_uri": "https://localhost:8080/"
        },
        "outputId": "bba03ac5-5fa4-4ad9-b501-8b499a581610"
      },
      "execution_count": null,
      "outputs": [
        {
          "output_type": "stream",
          "name": "stdout",
          "text": [
            "('Joel',)\n"
          ]
        }
      ]
    },
    {
      "cell_type": "markdown",
      "source": [
        "Dada a seguinte tupla: (“José”, 35, 1.78, “jose@email.com”). Faça o desempacotamento dessa tupla em variáveis individuais. Escolhas nomes coerentes com o problema."
      ],
      "metadata": {
        "id": "qjiGctgeBtFV"
      }
    },
    {
      "cell_type": "code",
      "source": [
        "dados = (\"Jose\", 35, 1.78, \"jose@email.com\")\n",
        "nome , idade, altura, email = dados\n",
        "\n",
        "print(\"Dados: \", dados)\n",
        "print(\"Nome:\", nome)\n",
        "print(\"Idade:\", idade)\n",
        "print(\"Altura:\", altura)\n",
        "print(\"email:\", email)"
      ],
      "metadata": {
        "id": "5NYaWDANBuzC",
        "colab": {
          "base_uri": "https://localhost:8080/"
        },
        "outputId": "d0e978b5-0fe0-419c-9787-6758d87d43df"
      },
      "execution_count": null,
      "outputs": [
        {
          "output_type": "stream",
          "name": "stdout",
          "text": [
            "Dados:  ('Jose', 35, 1.78, 'jose@email.com')\n",
            "Nome Jose\n",
            "Idade 35\n",
            "Altura 1.78\n",
            "email jose@email.com\n"
          ]
        }
      ]
    },
    {
      "cell_type": "markdown",
      "source": [
        "# VAMOS UNIR OS CONHECIMENTOS\n"
      ],
      "metadata": {
        "id": "_n3t0uYXBu8K"
      }
    },
    {
      "cell_type": "markdown",
      "source": [
        "Elaborar um algoritmo que solicite os seguintes dados de três usuários: nome, email e telefone. Em seguida armazene esses valores em uma tupla."
      ],
      "metadata": {
        "id": "g-0Wds-7Byrx"
      }
    },
    {
      "cell_type": "code",
      "source": [
        "loop = 0\n",
        "while loop < 3:\n",
        "  nome = input(\"Digite seu nome: \")\n",
        "  email = input(\"Digite seu email: \")\n",
        "  telefone = int(input(\"Digite seu telefone: \"))\n",
        "  tupla1 = nome, email ,telefone\n",
        "  loop = loop +1\n",
        "  nome = input(\"Digite seu nome: \")\n",
        "  email = input(\"Digite seu email: \")\n",
        "  telefone = int(input(\"Digite seu telefone: \"))\n",
        "  tupla2 = nome, email ,telefone\n",
        "  loop = loop +1\n",
        "  nome = input(\"Digite seu nome: \")\n",
        "  email = input(\"Digite seu email: \")\n",
        "  telefone = int(input(\"Digite seu telefone: \"))\n",
        "  tupla3 = nome, email ,telefone\n",
        "  loop = loop +1\n",
        "  print(tupla1, tupla2, tupla3)"
      ],
      "metadata": {
        "id": "47JXC5i6ByXl",
        "colab": {
          "base_uri": "https://localhost:8080/"
        },
        "outputId": "ee4e817b-d989-45e6-ec76-015d91970029"
      },
      "execution_count": null,
      "outputs": [
        {
          "output_type": "stream",
          "name": "stdout",
          "text": [
            "Digite seu nome: a\n",
            "Digite seu email: a\n",
            "Digite seu telefone: 1\n",
            "Digite seu nome: b\n",
            "Digite seu email: b\n",
            "Digite seu telefone: 2\n",
            "Digite seu nome: c\n",
            "Digite seu email: c\n",
            "Digite seu telefone: 3\n",
            "('a', 'a', 1) ('b', 'b', 2) ('c', 'c', 3)\n"
          ]
        }
      ]
    },
    {
      "cell_type": "markdown",
      "source": [
        "Elabore um algoritmo que solicite a três  usuário os seguintes dados: idade, login e senha. Primeiro insira esses dados em uma tupla. Depois insira cada tupla em uma lista. Por sim, percorra toda lista, desempacotando cada tupla e mostrando a seguinte mensagem para cada usuário: “O usuário ___ foi cadastrado com sucesso. Login: ___ e Senha: ___”."
      ],
      "metadata": {
        "id": "Upwsy-lkB2hW"
      }
    },
    {
      "cell_type": "code",
      "source": [
        "loop = 0\n",
        "while loop < 3:\n",
        "  nome = input(\"Digite sua nome: \")\n",
        "  login = input(\"Digite seu login: \")\n",
        "  senha = input(\"Digite sua senha: \")\n",
        "  tupla1 = nome, login ,senha\n",
        "  loop = loop +1\n",
        "  nome = input(\"Digite sua nome: \")\n",
        "  login = input(\"Digite seu login: \")\n",
        "  senha = input(\"Digite sua senha: \")\n",
        "  tupla2 = nome, login ,senha\n",
        "  loop = loop + 1 \n",
        "  nome = input(\"Digite seu nome: \")\n",
        "  login = input(\"Digite seu login: \")\n",
        "  senha = input(\"Digite sua senha: \")\n",
        "  tupla3 = nome, login ,senha\n",
        "  loop = loop +1\n",
        "  lista1 =[]\n",
        "  lista1.append(tupla1)\n",
        "  lista2 =[]\n",
        "  lista2.append(tupla2)\n",
        "  lista3 = []\n",
        "  lista3.append(tupla3)\n",
        "  print(\"O usuario\", tupla1[0], \"foi cadatrado com sucesso. Login:\", tupla1[1],\"e Senha:\", tupla1[2])\n",
        "  print(\"O usuario\", tupla2[0], \"foi cadatrado com sucesso. Login:\", tupla2[1],\"e Senha:\", tupla2[2])\n",
        "  print(\"O usuario\", tupla3[0], \"foi cadatrado com sucesso. Login:\", tupla3[1],\"e Senha:\", tupla3[2])\n",
        "  "
      ],
      "metadata": {
        "id": "ogYBvtD4B4Qn",
        "colab": {
          "base_uri": "https://localhost:8080/"
        },
        "outputId": "6727ca2c-ae4b-4438-d0b0-b35297fdb486"
      },
      "execution_count": 25,
      "outputs": [
        {
          "output_type": "stream",
          "name": "stdout",
          "text": [
            "Digite sua nome: marcos\n",
            "Digite seu login: marcos123\n",
            "Digite sua senha: marcos123\n",
            "Digite sua nome: jose\n",
            "Digite seu login: jose123\n",
            "Digite sua senha: jose123\n",
            "Digite seu nome: carlos\n",
            "Digite seu login: carlos123\n",
            "Digite sua senha: carlos123\n",
            "O usuario marcos foi cadatrado com sucesso. Login: marcos123 e Senha: marcos123\n",
            "O usuario jose foi cadatrado com sucesso. Login: jose123 e Senha: jose123\n",
            "O usuario carlos foi cadatrado com sucesso. Login: carlos123 e Senha: carlos123\n"
          ]
        }
      ]
    },
    {
      "cell_type": "markdown",
      "source": [
        "Elaborar um algoritmo que que solicite de 3 usuários, nome, altura e peso. Armazena esses valores em uma tupla, mas adicione nesta tupla o resultado do IMC deste usuário. Em outro for, percorra a lista e indique para cada usuário sua situação corporal conforme legenda: <18 abaixo do peso, entre 18 e 25 peso ideal, 26 a 30 sobre-peso, acima de 30 obeso."
      ],
      "metadata": {
        "id": "PF171t0aB4X0"
      }
    },
    {
      "cell_type": "code",
      "source": [
        "contador = 0\n",
        "while contador < 3:\n",
        "  nome = input('Digite seu nome')\n",
        "  altura = float(input('Digite sua altura '))\n",
        "  peso = float(input('Digite seu peso '))\n",
        "  IMC = float(peso/(altura**2))\n",
        "  contador = contador + 1\n",
        "if IMC < 18:\n",
        "  resultado_imc = \"Abaixo do peso\"\n",
        "elif IMC >= 18 and IMC <=25:\n",
        "  resultado_imc = \"Peso ideal\"\n",
        "elif IMC >= 25 and IMC <=30:\n",
        "  resultado_imc = \"Sobre-peso\"\n",
        "elif IMC >30:\n",
        "  resultado_imc = \"Obeso\"\n",
        "usuario= nome, altura, peso, resultado_imc\n",
        "for i in range(0,3):\n",
        "  print(usuario)\n",
        "\n",
        "\n",
        "\"\"\"nome2 = input('Digite seu nome')\n",
        "altura2 = float(input('Digite sua altura '))\n",
        "peso2 = float(input('Digite seu peso '))\n",
        "usuario2 = nome2, altura2, peso2\n",
        "nome3 = input('Digite seu nome')\n",
        "altura3 = float(input('Digite sua altura '))\n",
        "peso3 = float(input('Digite seu peso '))\n",
        "usuario3 = nome3, altura3, peso3\"\"\""
      ],
      "metadata": {
        "id": "KhmCDWbJB6Pu",
        "colab": {
          "base_uri": "https://localhost:8080/",
          "height": 294
        },
        "outputId": "9ed79ec8-c401-4ce3-bad2-7c3d5f96567b"
      },
      "execution_count": 38,
      "outputs": [
        {
          "output_type": "stream",
          "name": "stdout",
          "text": [
            "Digite seu nomejorge\n",
            "Digite sua altura 1.77\n",
            "Digite seu peso 70\n",
            "Digite seu nomebola\n",
            "Digite sua altura 18.88\n",
            "Digite seu peso 100\n",
            "Digite seu nomecarma\n",
            "Digite sua altura 1.65\n",
            "Digite seu peso 69.0\n",
            "('a', 1.65, 69.0, 'Sobre-peso')\n",
            "('a', 1.65, 69.0, 'Sobre-peso')\n",
            "('a', 1.65, 69.0, 'Sobre-peso')\n",
            "('a', 1.65, 69.0, 'Sobre-peso')\n"
          ]
        },
        {
          "output_type": "execute_result",
          "data": {
            "text/plain": [
              "\"nome2 = input('Digite seu nome')\\naltura2 = float(input('Digite sua altura '))\\npeso2 = float(input('Digite seu peso '))\\nusuario2 = nome2, altura2, peso2\\nnome3 = input('Digite seu nome')\\naltura3 = float(input('Digite sua altura '))\\npeso3 = float(input('Digite seu peso '))\\nusuario3 = nome3, altura3, peso3\""
            ],
            "application/vnd.google.colaboratory.intrinsic+json": {
              "type": "string"
            }
          },
          "metadata": {},
          "execution_count": 38
        }
      ]
    },
    {
      "cell_type": "markdown",
      "source": [
        "Crie um algoritmo que leia o resultado de cada uma das 10 questões do usuário em uma prova. O usuário irá informar 1 se ele acertou e -1 se ele errou. Adicione cada uma das respostas em uma lista de respostas. Em outro for percorra a lista somando as notas  e depois mostre a mensagem: “Nota final ___” (Lembre do conceito de acumulador)"
      ],
      "metadata": {
        "id": "CCvIUrObB6W6"
      }
    },
    {
      "cell_type": "code",
      "source": [
        "contador_resultado_correto = 0\n",
        "contador_resultado_incorreto = 0\n",
        "for i in range (1,11):\n",
        "  resultado = input(f'Digite o resultado da questão {i} ')\n",
        "  if resultado == 'acertei':\n",
        "    contador_resultado_correto = contador_resultado_correto +1\n",
        "  elif resultado == 'errei':\n",
        "    contador_resultado_incorreto = contador_resultado_incorreto + 0\n",
        "  else:\n",
        "    break\n",
        "print('Nota final', contador_resultado_correto)\n",
        "\n",
        "\n",
        "\n",
        "  \n",
        "\n"
      ],
      "metadata": {
        "id": "Z1ABcx5nB8be",
        "colab": {
          "base_uri": "https://localhost:8080/"
        },
        "outputId": "e98fef19-0b24-412b-efd0-0809677974ab"
      },
      "execution_count": 31,
      "outputs": [
        {
          "output_type": "stream",
          "name": "stdout",
          "text": [
            "Digite o resultado da questão 1 acertei\n",
            "Digite o resultado da questão 2 acertei\n",
            "Digite o resultado da questão 3 acertei\n",
            "Digite o resultado da questão 4 acertei\n",
            "Digite o resultado da questão 5 errei\n",
            "Digite o resultado da questão 6 acertei\n",
            "Digite o resultado da questão 7 acertei\n",
            "Digite o resultado da questão 8 acertei\n",
            "Digite o resultado da questão 9 acertei\n",
            "Digite o resultado da questão 10 acertei\n",
            "Nota final 9\n"
          ]
        }
      ]
    }
  ]
}