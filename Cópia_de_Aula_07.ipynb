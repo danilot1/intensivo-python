{
  "nbformat": 4,
  "nbformat_minor": 0,
  "metadata": {
    "colab": {
      "provenance": [],
      "include_colab_link": true
    },
    "kernelspec": {
      "name": "python3",
      "display_name": "Python 3"
    },
    "language_info": {
      "name": "python"
    }
  },
  "cells": [
    {
      "cell_type": "markdown",
      "metadata": {
        "id": "view-in-github",
        "colab_type": "text"
      },
      "source": [
        "<a href=\"https://colab.research.google.com/github/danilot1/intensivo-python/blob/main/C%C3%B3pia_de_Aula_07.ipynb\" target=\"_parent\"><img src=\"https://colab.research.google.com/assets/colab-badge.svg\" alt=\"Open In Colab\"/></a>"
      ]
    },
    {
      "cell_type": "markdown",
      "source": [
        "# ATIVIDADE DE OPERAÇÕES COM CONJUNTOS\n"
      ],
      "metadata": {
        "id": "TapM7NCP4ubG"
      }
    },
    {
      "cell_type": "markdown",
      "source": [
        "Crie um conjunto com os números de 1 a 10"
      ],
      "metadata": {
        "id": "GgjYap1M4va2"
      }
    },
    {
      "cell_type": "code",
      "execution_count": null,
      "metadata": {
        "id": "xPQv_rNc4rUk",
        "colab": {
          "base_uri": "https://localhost:8080/"
        },
        "outputId": "6336f62e-9863-41ba-a98b-3c08e004715a"
      },
      "outputs": [
        {
          "output_type": "stream",
          "name": "stdout",
          "text": [
            "{1, 2, 3, 4, 5, 6, 7, 8, 9, 10}\n"
          ]
        }
      ],
      "source": [
        "conjunto = {1 , 2, 3, 4 , 5, 6, 7, 8, 9, 10}\n",
        "print(conjunto)"
      ]
    },
    {
      "cell_type": "markdown",
      "source": [
        "Use a função “set( )” para criar um conjunto com 10 letra do alfabeto"
      ],
      "metadata": {
        "id": "IZrF1ko847UR"
      }
    },
    {
      "cell_type": "code",
      "source": [
        "conjunto = set(\"abcdefghij\")\n",
        "print(conjunto)"
      ],
      "metadata": {
        "id": "Ue5zDL4v49jC",
        "colab": {
          "base_uri": "https://localhost:8080/"
        },
        "outputId": "69ad5c72-3cad-4637-a8ee-9053ff71ad91"
      },
      "execution_count": null,
      "outputs": [
        {
          "output_type": "stream",
          "name": "stdout",
          "text": [
            "{'e', 'g', 'j', 'c', 'a', 'd', 'h', 'f', 'i', 'b'}\n"
          ]
        }
      ]
    },
    {
      "cell_type": "markdown",
      "source": [
        "Crie um conjunto com os seguintes elementos “abfsdabfgasedass”, e em seguida imprima o tamanho do conjunto com uma mensagem amigável. Abaixe explique o porque do conjunto ter o tamanho informado por você e não 16"
      ],
      "metadata": {
        "id": "lxRN8Y7i49rP"
      }
    },
    {
      "cell_type": "code",
      "source": [
        "conjunto = set(\"abfsdabfgasedass\")\n",
        "print(\"o tamanho do conjunto é\", len(conjunto))\n",
        "#devido a funcao len contar a nomeação do conjunto e não o elemento contido nele"
      ],
      "metadata": {
        "id": "wBydM9rS4_5I",
        "colab": {
          "base_uri": "https://localhost:8080/"
        },
        "outputId": "366bac84-3751-47ed-8192-e46685b47d11"
      },
      "execution_count": null,
      "outputs": [
        {
          "output_type": "stream",
          "name": "stdout",
          "text": [
            "o tamanho do conjunto é 7\n"
          ]
        }
      ]
    },
    {
      "cell_type": "markdown",
      "source": [
        "Realize a operação de união com os conjuntos a = {123456} e b={456789} e atribua a um conjunto ‘c’. Mostre na tela o conjunto formado e tamanho de cada conjunto individualmente, além do tamanho do conjunto ‘c’"
      ],
      "metadata": {
        "id": "Bt1S4qRd5ABu"
      }
    },
    {
      "cell_type": "code",
      "source": [
        "a = {123456}\n",
        "b={456789}\n",
        "c = set(a|b)\n",
        "print(c)\n",
        "print(len(a), len(b),len(c))\n"
      ],
      "metadata": {
        "id": "VzVWjoeT5CP6",
        "colab": {
          "base_uri": "https://localhost:8080/"
        },
        "outputId": "0eac04bc-7918-4ba4-df66-57c4e9d36e69"
      },
      "execution_count": null,
      "outputs": [
        {
          "output_type": "stream",
          "name": "stdout",
          "text": [
            "{123456, 456789}\n",
            "1 1 2\n"
          ]
        }
      ]
    },
    {
      "cell_type": "markdown",
      "source": [
        "Realize a operação de intersecção com os conjuntos a = {123456} e b={456789} e atribua a um conjunto ‘c’. Mostre na tela o conjunto formado e tamanho de cada conjunto individualmente, além do tamanho do conjunto ‘c’"
      ],
      "metadata": {
        "id": "-M4RnSlC5Ceu"
      }
    },
    {
      "cell_type": "code",
      "source": [
        "a = {123456}\n",
        "b={456789}\n",
        "c = set(a&b)\n",
        "print(c)\n",
        "print(len(a), len(b),len(c))"
      ],
      "metadata": {
        "id": "Xpo7oPpV5FNv",
        "colab": {
          "base_uri": "https://localhost:8080/"
        },
        "outputId": "9f2c9172-ed71-4833-a620-14831bec9cb1"
      },
      "execution_count": null,
      "outputs": [
        {
          "output_type": "stream",
          "name": "stdout",
          "text": [
            "set()\n",
            "1 1 0\n"
          ]
        }
      ]
    },
    {
      "cell_type": "markdown",
      "source": [
        "Realize a operação de diferença com os conjuntos a = {123456} e b={456789} e atribua a um conjunto ‘c’. Mostre na tela o conjunto formado e tamanho de cada conjunto individualmente, além do tamanho do conjunto ‘c’"
      ],
      "metadata": {
        "id": "AJRPIsci5FX3"
      }
    },
    {
      "cell_type": "code",
      "source": [
        "a = {123456}\n",
        "b={456789}\n",
        "c = set(a-b)\n",
        "print(c)\n",
        "print(len(a), len(b),len(c))"
      ],
      "metadata": {
        "id": "ius0o7XD5IXD"
      },
      "execution_count": null,
      "outputs": []
    },
    {
      "cell_type": "markdown",
      "source": [
        "Vamos criar um jogo. Armazene seu nome completo em uma variável. Em seguida crie uma estrutura “while” que será executada enquanto o número de acertos do usuário for menor que 3. Dentro do “while” peça para o usuário informar uma letra, e verifique, usando a notação “in” do python, se essa letra está contida no seu nome, caso positivo adicione um ponto ao usuário, no final quando ele atingir 3 pontos encerre o loop"
      ],
      "metadata": {
        "id": "oiOvyv4U5ImH"
      }
    },
    {
      "cell_type": "code",
      "source": [],
      "metadata": {
        "id": "xeoKIlt45Lwd"
      },
      "execution_count": null,
      "outputs": []
    },
    {
      "cell_type": "markdown",
      "source": [
        "Adicione o elemento 3 ao conjunto s={2,1,5,8,9,3,4,0} e verifique o tamanho antes e depois da inserção; Diga o que mudou depois da inserção"
      ],
      "metadata": {
        "id": "2PHa4ecy5K4_"
      }
    },
    {
      "cell_type": "code",
      "source": [
        "s = {2,1,5,8,9,3,4,0}\n",
        "print(len(s))\n",
        "s.add(3)\n",
        "print(len(s))"
      ],
      "metadata": {
        "id": "oTpLiqaS5O3r",
        "colab": {
          "base_uri": "https://localhost:8080/"
        },
        "outputId": "425246d1-8600-4363-ed13-2367c75f6861"
      },
      "execution_count": null,
      "outputs": [
        {
          "output_type": "stream",
          "name": "stdout",
          "text": [
            "8\n",
            "8\n"
          ]
        }
      ]
    },
    {
      "cell_type": "markdown",
      "source": [
        "Crie um laço de repetição para imprimir todos os elementos do conjunto acima"
      ],
      "metadata": {
        "id": "LwWN7VIg5PAA"
      }
    },
    {
      "cell_type": "code",
      "source": [
        "s = {2,1,5,8,9,3,4,0}\n",
        "for x in s:\n",
        "  print(s)\n"
      ],
      "metadata": {
        "id": "fT7X3WHj5RO-",
        "colab": {
          "base_uri": "https://localhost:8080/"
        },
        "outputId": "ec6190cb-6857-4d64-87ef-b9225dae8f0c"
      },
      "execution_count": null,
      "outputs": [
        {
          "output_type": "stream",
          "name": "stdout",
          "text": [
            "{0, 1, 2, 3, 4, 5, 8, 9}\n",
            "{0, 1, 2, 3, 4, 5, 8, 9}\n",
            "{0, 1, 2, 3, 4, 5, 8, 9}\n",
            "{0, 1, 2, 3, 4, 5, 8, 9}\n",
            "{0, 1, 2, 3, 4, 5, 8, 9}\n",
            "{0, 1, 2, 3, 4, 5, 8, 9}\n",
            "{0, 1, 2, 3, 4, 5, 8, 9}\n",
            "{0, 1, 2, 3, 4, 5, 8, 9}\n"
          ]
        }
      ]
    },
    {
      "cell_type": "markdown",
      "source": [
        "Com um laço, remova todos os elementos pares do conjunto acima"
      ],
      "metadata": {
        "id": "fDXrJgag5RWy"
      }
    },
    {
      "cell_type": "code",
      "source": [
        "s = {2,1,5,8,9,3,4,0}\n",
        "if s % 2 ==0:\n",
        "  s.discard(s)\n"
      ],
      "metadata": {
        "id": "2n13Htu65TkM"
      },
      "execution_count": null,
      "outputs": []
    },
    {
      "cell_type": "markdown",
      "source": [
        "# ATIVIDADE DE OPERAÇÕES COM DICIONÁRIOS"
      ],
      "metadata": {
        "id": "sjgUoT8t5Tsy"
      }
    },
    {
      "cell_type": "markdown",
      "source": [
        "Crie um dicionário em vazio"
      ],
      "metadata": {
        "id": "Bhr00D7M5WzQ"
      }
    },
    {
      "cell_type": "code",
      "source": [
        "dicionario = {}"
      ],
      "metadata": {
        "id": "UPo_KMxa5Y2_"
      },
      "execution_count": null,
      "outputs": []
    },
    {
      "cell_type": "markdown",
      "source": [
        "Crie um dicionário em que a chave seja um id de valor inteiro, e o valor seja o nome do usuário"
      ],
      "metadata": {
        "id": "OT7gdoCY5ZCd"
      }
    },
    {
      "cell_type": "code",
      "source": [
        "dicionario = { \"id\" : 1250 }\n",
        "print(dicionario)"
      ],
      "metadata": {
        "id": "ahXK2KDk5a71",
        "colab": {
          "base_uri": "https://localhost:8080/"
        },
        "outputId": "acd1db41-26ba-44cb-a2f0-c45192017e2f"
      },
      "execution_count": null,
      "outputs": [
        {
          "output_type": "stream",
          "name": "stdout",
          "text": [
            "{'id': 1250}\n"
          ]
        }
      ]
    },
    {
      "cell_type": "markdown",
      "source": [
        "Crie um dicionário. crie a estrutura que descreva uma loja de um shopping center"
      ],
      "metadata": {
        "id": "0HvhUISb5bD3"
      }
    },
    {
      "cell_type": "code",
      "source": [
        "dicionario = { \n",
        "    \"nome\" : \"Lojas Americanas\",\n",
        "    \"localização\" : \"primeiro andar\",\n",
        "}"
      ],
      "metadata": {
        "id": "7h7twK4X5daa"
      },
      "execution_count": null,
      "outputs": []
    },
    {
      "cell_type": "markdown",
      "source": [
        "Dado o dicionário d = {123: “nome do cliente, “fone”: 999999999, “email”: “email@email.com” }, user o comando printo para imprimir cada dado desse cliente, um em cada linha"
      ],
      "metadata": {
        "id": "EqZ9m9jr5diw"
      }
    },
    {
      "cell_type": "code",
      "source": [
        "d = {\n",
        "  \"nome do clinte\" : \"José\",\n",
        "  \"telefone\" : \"980028922\",\n",
        "  \"email\" : \"jose@hotmail.com\"  \n",
        "}\n",
        "print(d)"
      ],
      "metadata": {
        "id": "icjEievQ5flQ",
        "colab": {
          "base_uri": "https://localhost:8080/"
        },
        "outputId": "f5a7b27b-d3b0-435f-de65-dfcc789d5015"
      },
      "execution_count": null,
      "outputs": [
        {
          "output_type": "stream",
          "name": "stdout",
          "text": [
            "{'nome do clinte': 'José', 'telefone': '980028922', 'email': 'jose@hotmail.com'}\n"
          ]
        }
      ]
    },
    {
      "cell_type": "markdown",
      "source": [
        "Crie um dicionário vazio, em seguida desenvolva a estrutura para descrever uma lista de usuário com seu “id” e seu login. Sendo “id” a chave um número inteiro. Crie 5 usuários"
      ],
      "metadata": {
        "id": "al0M2b5P5fti"
      }
    },
    {
      "cell_type": "code",
      "source": [
        "d = {}\n",
        " "
      ],
      "metadata": {
        "id": "PSXkjWJS5hu_"
      },
      "execution_count": null,
      "outputs": []
    },
    {
      "cell_type": "markdown",
      "source": [
        "Use o método get() para recuperar o nome de um cliente a partir do valor de sua chave"
      ],
      "metadata": {
        "id": "JgKP7JFn5h3S"
      }
    },
    {
      "cell_type": "code",
      "source": [
        "d = {\n",
        "    \"nome\" : \"ivan\",\n",
        "}\n",
        "nome = d.get(\"nome\")\n",
        "print(nome)"
      ],
      "metadata": {
        "id": "qF45P9JD5jag",
        "colab": {
          "base_uri": "https://localhost:8080/"
        },
        "outputId": "f74e51fd-21a4-4c5f-8f45-3fb17ee4658e"
      },
      "execution_count": null,
      "outputs": [
        {
          "output_type": "stream",
          "name": "stdout",
          "text": [
            "ivan\n"
          ]
        }
      ]
    },
    {
      "cell_type": "markdown",
      "source": [
        "Dados os dicionários pessoa = {“nome”: “jose”, “telefone”: 990099112233} e endereco = {“rua”: “um”, “numero”: 10, “estado”: “PE”}, una esses todos os dados apenas no dicionário pessoa"
      ],
      "metadata": {
        "id": "_nl_EiwN5jiV"
      }
    },
    {
      "cell_type": "code",
      "source": [
        "pessoa = {\"nome\": \"jose\", \"telefone\": 990099112233}\n",
        "endereço = {\"rua\" : \"um\", \"numero\": 10, \"estado\": \"PE\"}\n",
        "endereço in pessoa\n",
        "print(pessoa)"
      ],
      "metadata": {
        "id": "mEyukYhT5lS0"
      },
      "execution_count": null,
      "outputs": []
    },
    {
      "cell_type": "markdown",
      "source": [
        "Dado o dicionário empresas = {1: “sadia”, 2: \"perdigão\", 3: “seara”, 4: “unilever”, 5: “ambev”}, faça um laço que mostre o par chave e valor de cada uma"
      ],
      "metadata": {
        "id": "N0LMEpca5lap"
      }
    },
    {
      "cell_type": "code",
      "source": [],
      "metadata": {
        "id": "jAQHpb165noU"
      },
      "execution_count": null,
      "outputs": []
    },
    {
      "cell_type": "markdown",
      "source": [
        "Crie um dicionário que represente as características de uma pessoa"
      ],
      "metadata": {
        "id": "CCm4_VN35nwY"
      }
    },
    {
      "cell_type": "code",
      "source": [
        "pessoa = {\n",
        "    \"nome\" : \"Ismael\",\n",
        "    \"altura\" : 1.88,\n",
        "    \"peso\" : 80.0,\n",
        "    \"cabelo\" : \"Preto\"\n",
        "    \n",
        "}"
      ],
      "metadata": {
        "id": "TQWeodI_5pt8"
      },
      "execution_count": null,
      "outputs": []
    },
    {
      "cell_type": "markdown",
      "source": [
        "Crie um dicionário que represente um vídeo postado no YouTube"
      ],
      "metadata": {
        "id": "ZsKLUB705p3z"
      }
    },
    {
      "cell_type": "code",
      "source": [],
      "metadata": {
        "id": "HqKYKiPa5ruC"
      },
      "execution_count": null,
      "outputs": []
    }
  ]
}