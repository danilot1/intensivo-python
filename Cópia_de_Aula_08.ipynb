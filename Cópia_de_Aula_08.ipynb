{
  "nbformat": 4,
  "nbformat_minor": 0,
  "metadata": {
    "colab": {
      "provenance": [],
      "include_colab_link": true
    },
    "kernelspec": {
      "name": "python3",
      "display_name": "Python 3"
    },
    "language_info": {
      "name": "python"
    }
  },
  "cells": [
    {
      "cell_type": "markdown",
      "metadata": {
        "id": "view-in-github",
        "colab_type": "text"
      },
      "source": [
        "<a href=\"https://colab.research.google.com/github/danilot1/intensivo-python/blob/main/C%C3%B3pia_de_Aula_08.ipynb\" target=\"_parent\"><img src=\"https://colab.research.google.com/assets/colab-badge.svg\" alt=\"Open In Colab\"/></a>"
      ]
    },
    {
      "cell_type": "markdown",
      "source": [
        "# ATIVIDADE DE OPERAÇÕES COM CLASSES\n"
      ],
      "metadata": {
        "id": "r76DIycaSAsS"
      }
    },
    {
      "cell_type": "markdown",
      "source": [
        "Classe Bola: Crie uma classe que modele uma bola:\n",
        "\n",
        "Atributos: Cor, circunferência, material\n",
        "\n",
        "Métodos: trocaCor e mostraCor\n",
        "\n",
        "EX: defina a cor azul, circunferência 35 e material couro\n"
      ],
      "metadata": {
        "id": "jeQ5mnYGSE3O"
      }
    },
    {
      "cell_type": "code",
      "execution_count": null,
      "metadata": {
        "id": "z6hVV7-dR_EV"
      },
      "outputs": [],
      "source": [
        "class bola :\n",
        "  def init (self,):\n",
        "    self.cor = \"azul\"\n",
        "    self.circunferencia = 35\n",
        "    self.material = \"couro\"\n",
        "  def trocaCor(self):\n",
        "    cor = input()\n",
        "  def mostraCor(self):\n",
        "    return self.cor\n",
        "trocaCor(Self)  "
      ]
    },
    {
      "cell_type": "markdown",
      "source": [
        "Classe Quadrado: Crie uma classe que modele um quadrado:\n",
        "\n",
        "Atributos: Tamanho do lado\n",
        "\n",
        "Métodos: Mudar valor do Lado, Retornar valor do Lado e calcular Área;\n"
      ],
      "metadata": {
        "id": "yz0bWTcSSa5w"
      }
    },
    {
      "cell_type": "code",
      "source": [
        "class quadrado:\n",
        "  def tamanho(self):\n",
        "    self.lado1 = 4\n",
        "    self.lado2 = 4\n",
        "    self.lado3 = 4\n",
        "    self.lado4 = 4\n",
        "  def mudarvalor(self):\n",
        "    self.lado1 = input()\n",
        "    self.lado2 = input()\n",
        "    self.lado3 = input()\n",
        "    self.lado4 = input()\n",
        "  def retornarvalor(self):\n",
        "    return self.lado1, self.lado2 , self.lado3, self.lado4\n",
        "  def calculoarea(self):\n",
        "    self.calculo = self.lado1 **self.lado2\n",
        "    return self.calculo\n",
        "def tamanho(Self)"
      ],
      "metadata": {
        "id": "9ZlASEKKSf7c"
      },
      "execution_count": null,
      "outputs": []
    },
    {
      "cell_type": "markdown",
      "source": [
        "Classe Retangulo: Crie uma classe que modele um retangulo:\n",
        "\n",
        "Atributos: LadoA, LadoB (ou Comprimento e Largura, ou Base e Altura, a escolher)\n",
        "\n",
        "Métodos: Mudar valor dos lados, Retornar valor dos lados, calcular Área e \n",
        "calcular Perímetro;\n",
        "\n",
        "Crie um programa que utilize esta classe. Ele deve pedir ao usuário que informe as medidades de um local. Depois, deve-se criar um objeto com as medidas e calcular a quantidade de pisos e de rodapés necessários para o local.\n"
      ],
      "metadata": {
        "id": "FOt1Q_dwSgBf"
      }
    },
    {
      "cell_type": "code",
      "source": [],
      "metadata": {
        "id": "jDsMxLkoSlQN"
      },
      "execution_count": null,
      "outputs": []
    },
    {
      "cell_type": "markdown",
      "source": [
        "Classe Pessoa: Crie uma classe que modele uma pessoa:\n",
        "\n",
        "Atributos: nome, idade, peso e altura\n",
        "\n",
        "Métodos: Envelhercer, engordar, emagrecer, crescer. Obs: Por padrão, a cada ano \n",
        "que nossa pessoa envelhece, sendo a idade dela menor que 21 anos, ela deve crescer 0,5 cm.\n"
      ],
      "metadata": {
        "id": "xPLRDorYSlZW"
      }
    },
    {
      "cell_type": "code",
      "source": [],
      "metadata": {
        "id": "P_bpUF1FS4lX"
      },
      "execution_count": null,
      "outputs": []
    },
    {
      "cell_type": "markdown",
      "source": [
        "Classe Conta Corrente: \n",
        "\n",
        "Crie uma classe para implementar uma conta corrente. A classe deve possuir os seguintes atributos: número da conta, nome do correntista e saldo. \n",
        "\n",
        "Os métodos são os seguintes: alterarNome, depósito e saque; No construtor, saldo é opcional, com valor default zero e os demais atributos são obrigatórios."
      ],
      "metadata": {
        "id": "2MRGi7KsS5CN"
      }
    },
    {
      "cell_type": "code",
      "source": [],
      "metadata": {
        "id": "b6DX1fvMTBlZ"
      },
      "execution_count": null,
      "outputs": []
    }
  ]
}