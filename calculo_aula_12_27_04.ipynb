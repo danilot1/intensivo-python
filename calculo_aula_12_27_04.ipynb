{
  "nbformat": 4,
  "nbformat_minor": 0,
  "metadata": {
    "colab": {
      "provenance": [],
      "authorship_tag": "ABX9TyNiV1hGQTdlryd2/Y52w5BD",
      "include_colab_link": true
    },
    "kernelspec": {
      "name": "python3",
      "display_name": "Python 3"
    },
    "language_info": {
      "name": "python"
    }
  },
  "cells": [
    {
      "cell_type": "markdown",
      "metadata": {
        "id": "view-in-github",
        "colab_type": "text"
      },
      "source": [
        "<a href=\"https://colab.research.google.com/github/danilot1/intensivo-python/blob/main/calculo_aula_12_27_04.ipynb\" target=\"_parent\"><img src=\"https://colab.research.google.com/assets/colab-badge.svg\" alt=\"Open In Colab\"/></a>"
      ]
    },
    {
      "cell_type": "code",
      "execution_count": null,
      "metadata": {
        "id": "iwhxvpdLHZuq"
      },
      "outputs": [],
      "source": [
        "from sympy import*"
      ]
    },
    {
      "cell_type": "code",
      "source": [],
      "metadata": {
        "id": "aCj8dpO_NY_a"
      },
      "execution_count": null,
      "outputs": []
    },
    {
      "cell_type": "code",
      "source": [
        "x = Symbol('x')\n",
        "s = Symbol('s')\n",
        "pi = Symbol('pi')\n"
      ],
      "metadata": {
        "id": "sbfP8hV8Hr_E"
      },
      "execution_count": null,
      "outputs": []
    },
    {
      "cell_type": "code",
      "source": [
        "f1 =1/x\n",
        "\n"
      ],
      "metadata": {
        "id": "84GvgPUdIPxS"
      },
      "execution_count": null,
      "outputs": []
    },
    {
      "cell_type": "code",
      "source": [
        "limit(f1,x,0,dir='+') #limite infinito a direita de 0"
      ],
      "metadata": {
        "colab": {
          "base_uri": "https://localhost:8080/",
          "height": 37
        },
        "id": "yOmyk7-xJD98",
        "outputId": "8dfbae1c-0fc6-480a-8334-583e5c37e1d4"
      },
      "execution_count": null,
      "outputs": [
        {
          "output_type": "execute_result",
          "data": {
            "text/plain": [
              "oo"
            ],
            "text/latex": "$\\displaystyle \\infty$"
          },
          "metadata": {},
          "execution_count": 4
        }
      ]
    },
    {
      "cell_type": "code",
      "source": [
        "limit(f1,x,0,dir='-') #limite infinito a esquerda de 0"
      ],
      "metadata": {
        "colab": {
          "base_uri": "https://localhost:8080/",
          "height": 37
        },
        "id": "MpA2NjgrJR9S",
        "outputId": "0061b541-7de2-497e-fa59-dc251ad6daac"
      },
      "execution_count": null,
      "outputs": [
        {
          "output_type": "execute_result",
          "data": {
            "text/plain": [
              "-oo"
            ],
            "text/latex": "$\\displaystyle -\\infty$"
          },
          "metadata": {},
          "execution_count": 5
        }
      ]
    },
    {
      "cell_type": "code",
      "source": [
        "limit(f1,x,oo,dir='+') #limite no infinito a direita de infinito"
      ],
      "metadata": {
        "colab": {
          "base_uri": "https://localhost:8080/",
          "height": 37
        },
        "id": "mlKetehwJtbr",
        "outputId": "addc3a67-e0ba-4fe1-f038-cc9a5a162005"
      },
      "execution_count": null,
      "outputs": [
        {
          "output_type": "execute_result",
          "data": {
            "text/plain": [
              "0"
            ],
            "text/latex": "$\\displaystyle 0$"
          },
          "metadata": {},
          "execution_count": 6
        }
      ]
    },
    {
      "cell_type": "code",
      "source": [
        "limit(f1,x,oo,dir='-') #limite no infinito a esquerda de infinito"
      ],
      "metadata": {
        "id": "owmg5AWBKqir",
        "colab": {
          "base_uri": "https://localhost:8080/",
          "height": 37
        },
        "outputId": "bfadc3a1-c502-4452-c619-2af73aa92951"
      },
      "execution_count": null,
      "outputs": [
        {
          "output_type": "execute_result",
          "data": {
            "text/plain": [
              "0"
            ],
            "text/latex": "$\\displaystyle 0$"
          },
          "metadata": {},
          "execution_count": 7
        }
      ]
    },
    {
      "cell_type": "code",
      "source": [
        "plot(f1) # representação da função f1 no plano cartesiano"
      ],
      "metadata": {
        "colab": {
          "base_uri": "https://localhost:8080/",
          "height": 504
        },
        "id": "8BBlyk9pKxtw",
        "outputId": "6cee4918-094b-4db6-8c6d-35372088c8c9"
      },
      "execution_count": null,
      "outputs": [
        {
          "output_type": "display_data",
          "data": {
            "text/plain": [
              "<Figure size 640x480 with 1 Axes>"
            ],
            "image/png": "[encoded data removed]"
          },
          "metadata": {}
        },
        {
          "output_type": "execute_result",
          "data": {
            "text/plain": [
              "<sympy.plotting.plot.Plot at 0x7f4cb931afb0>"
            ]
          },
          "metadata": {},
          "execution_count": 8
        }
      ]
    },
    {
      "cell_type": "code",
      "source": [
        "#f2= ((x**2)/((x**2)-4))\n",
        "f2= x**2/(x**2-4)\n",
        "limit(f2,x,2,dir='-') #limite infinito a esquerda de 2\n"
      ],
      "metadata": {
        "colab": {
          "base_uri": "https://localhost:8080/",
          "height": 37
        },
        "id": "r274d1OJLN6w",
        "outputId": "171c8fcf-96aa-4d38-925d-05818ed4e6ea"
      },
      "execution_count": null,
      "outputs": [
        {
          "output_type": "execute_result",
          "data": {
            "text/plain": [
              "-oo"
            ],
            "text/latex": "$\\displaystyle -\\infty$"
          },
          "metadata": {},
          "execution_count": 9
        }
      ]
    },
    {
      "cell_type": "code",
      "source": [
        "\n",
        "limit(f2,x,2,dir='+') #limite infinito a direita de 2\n"
      ],
      "metadata": {
        "colab": {
          "base_uri": "https://localhost:8080/",
          "height": 37
        },
        "id": "A-ruXGUdL9d_",
        "outputId": "84a8da53-2f58-4418-ee91-5f67611f2327"
      },
      "execution_count": null,
      "outputs": [
        {
          "output_type": "execute_result",
          "data": {
            "text/plain": [
              "oo"
            ],
            "text/latex": "$\\displaystyle \\infty$"
          },
          "metadata": {},
          "execution_count": 10
        }
      ]
    },
    {
      "cell_type": "code",
      "source": [
        "\n",
        "limit(f2,x,oo,dir='+') #limite no infinito a direita de infinito\n"
      ],
      "metadata": {
        "colab": {
          "base_uri": "https://localhost:8080/",
          "height": 37
        },
        "id": "p1W1owlnMPQb",
        "outputId": "a164e8c3-79aa-4be9-82e1-950636138beb"
      },
      "execution_count": null,
      "outputs": [
        {
          "output_type": "execute_result",
          "data": {
            "text/plain": [
              "1"
            ],
            "text/latex": "$\\displaystyle 1$"
          },
          "metadata": {},
          "execution_count": 11
        }
      ]
    },
    {
      "cell_type": "code",
      "source": [
        "\n",
        "limit(f2,x,oo,dir='-')  #limite no infinito a esquerda de infinito\n",
        "\n"
      ],
      "metadata": {
        "colab": {
          "base_uri": "https://localhost:8080/",
          "height": 37
        },
        "id": "YbZkpUIUMmIu",
        "outputId": "eec9b31b-342a-4f10-aa58-38d08f55464f"
      },
      "execution_count": null,
      "outputs": [
        {
          "output_type": "execute_result",
          "data": {
            "text/plain": [
              "1"
            ],
            "text/latex": "$\\displaystyle 1$"
          },
          "metadata": {},
          "execution_count": 12
        }
      ]
    },
    {
      "cell_type": "code",
      "source": [
        "plot(f2) # representação da função f2 no plano cartesiano"
      ],
      "metadata": {
        "colab": {
          "base_uri": "https://localhost:8080/",
          "height": 504
        },
        "id": "D6phlo2BQXLF",
        "outputId": "437ed3ee-0940-4701-a734-81a19615c39b"
      },
      "execution_count": null,
      "outputs": [
        {
          "output_type": "display_data",
          "data": {
            "text/plain": [
              "<Figure size 640x480 with 1 Axes>"
            ],
            "image/png": "[encoded data removed]"
          },
          "metadata": {}
        },
        {
          "output_type": "execute_result",
          "data": {
            "text/plain": [
              "<sympy.plotting.plot.Plot at 0x7f4cb8f83370>"
            ]
          },
          "metadata": {},
          "execution_count": 13
        }
      ]
    },
    {
      "cell_type": "code",
      "source": [
        "f3 = (3*(x**2)-x-2)/(5*(x**2)+(4*x)+1)\n",
        "limit(f3,x,oo,dir='+')"
      ],
      "metadata": {
        "colab": {
          "base_uri": "https://localhost:8080/",
          "height": 51
        },
        "id": "mRyCxzRZYC83",
        "outputId": "349cb29d-3faa-48df-a0e2-d39612078801"
      },
      "execution_count": null,
      "outputs": [
        {
          "output_type": "execute_result",
          "data": {
            "text/plain": [
              "3/5"
            ],
            "text/latex": "$\\displaystyle \\frac{3}{5}$"
          },
          "metadata": {},
          "execution_count": 14
        }
      ]
    },
    {
      "cell_type": "code",
      "source": [
        "# Letra a da quarta questão da terceira lista\n",
        "fa = (5*(s**3)-(2*s**2)+7)/(pi*s**3+5-3)\n",
        "limit(fa,s,oo,dir='-')"
      ],
      "metadata": {
        "colab": {
          "base_uri": "https://localhost:8080/",
          "height": 51
        },
        "id": "PSn06s-CNL9H",
        "outputId": "3f5d9a30-d3dd-4de9-ee55-8681fedc51ca"
      },
      "execution_count": null,
      "outputs": [
        {
          "output_type": "execute_result",
          "data": {
            "text/plain": [
              "5/pi"
            ],
            "text/latex": "$\\displaystyle \\frac{5}{\\pi}$"
          },
          "metadata": {},
          "execution_count": 15
        }
      ]
    },
    {
      "cell_type": "code",
      "source": [
        "# Letra b da quarta questão da terceira lista\n",
        "fb = (x**2)/(x**2-4)\n",
        "limit(fb,x,oo,dir='+')\n"
      ],
      "metadata": {
        "id": "9D6MNYcvVRzu",
        "colab": {
          "base_uri": "https://localhost:8080/",
          "height": 37
        },
        "outputId": "493df911-fe50-4917-f0f3-9ddf67d67a15"
      },
      "execution_count": null,
      "outputs": [
        {
          "output_type": "execute_result",
          "data": {
            "text/plain": [
              "1"
            ],
            "text/latex": "$\\displaystyle 1$"
          },
          "metadata": {},
          "execution_count": 16
        }
      ]
    },
    {
      "cell_type": "code",
      "source": [
        "# Letra c da quarta questão da terceira lista\n",
        "fc = (3*(x**4)+7*(x**2)-5)/(-2*(x**4)+3*x)\n",
        "limit(fc,x,oo,dir ='+')"
      ],
      "metadata": {
        "colab": {
          "base_uri": "https://localhost:8080/",
          "height": 51
        },
        "id": "nA_CC7AO5NUL",
        "outputId": "0d160d87-4528-4f2e-e0d0-dc46ac13d027"
      },
      "execution_count": null,
      "outputs": [
        {
          "output_type": "execute_result",
          "data": {
            "text/plain": [
              "-3/2"
            ],
            "text/latex": "$\\displaystyle - \\frac{3}{2}$"
          },
          "metadata": {},
          "execution_count": 17
        }
      ]
    },
    {
      "cell_type": "code",
      "source": [
        "# Letra d da quarta questão da terceira lista\n",
        "fd = ((4*(x**2)-(x**5)-3*x)/((x**2)+5*(x**5)-4))\n",
        "limit(fd,x,oo,dir ='-')\n"
      ],
      "metadata": {
        "colab": {
          "base_uri": "https://localhost:8080/",
          "height": 51
        },
        "id": "nyrnAZl458IT",
        "outputId": "b5198a8e-88a2-45b6-f3e5-418edb9cf787"
      },
      "execution_count": null,
      "outputs": [
        {
          "output_type": "execute_result",
          "data": {
            "text/plain": [
              "-1/5"
            ],
            "text/latex": "$\\displaystyle - \\frac{1}{5}$"
          },
          "metadata": {},
          "execution_count": 18
        }
      ]
    },
    {
      "cell_type": "markdown",
      "source": [
        "\n",
        "Aula 15 18/05/2023\n",
        "\n"
      ],
      "metadata": {
        "id": "VaIPGUFZSHGZ"
      }
    },
    {
      "cell_type": "code",
      "source": [
        "fx = (x**3-1)**100\n",
        "diff(fx,x)"
      ],
      "metadata": {
        "colab": {
          "base_uri": "https://localhost:8080/",
          "height": 41
        },
        "id": "fCUJhX3USP35",
        "outputId": "8278b8e1-a55a-4b27-fba3-994264a6eea3"
      },
      "execution_count": null,
      "outputs": [
        {
          "output_type": "execute_result",
          "data": {
            "text/plain": [
              "300*x**2*(x**3 - 1)**99"
            ],
            "text/latex": "$\\displaystyle 300 x^{2} \\left(x^{3} - 1\\right)^{99}$"
          },
          "metadata": {},
          "execution_count": 19
        }
      ]
    }
  ]
}