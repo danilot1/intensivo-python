{
  "nbformat": 4,
  "nbformat_minor": 0,
  "metadata": {
    "colab": {
      "provenance": [],
      "include_colab_link": true
    },
    "kernelspec": {
      "name": "python3",
      "display_name": "Python 3"
    },
    "language_info": {
      "name": "python"
    }
  },
  "cells": [
    {
      "cell_type": "markdown",
      "metadata": {
        "id": "view-in-github",
        "colab_type": "text"
      },
      "source": [
        "<a href=\"https://colab.research.google.com/github/danilot1/intensivo-python/blob/main/C%C3%B3pia_de_Aula_06.ipynb\" target=\"_parent\"><img src=\"https://colab.research.google.com/assets/colab-badge.svg\" alt=\"Open In Colab\"/></a>"
      ]
    },
    {
      "cell_type": "markdown",
      "source": [
        "Defina uma função que recebe o nome do usuário, e imprime a mensagem na tela: “Olá, xxxx. Seja bem vindo”;"
      ],
      "metadata": {
        "id": "48iY5rUneJYC"
      }
    },
    {
      "cell_type": "code",
      "execution_count": null,
      "metadata": {
        "id": "n7ib0nIEdoac",
        "colab": {
          "base_uri": "https://localhost:8080/"
        },
        "outputId": "c839996f-04f9-4e6a-9486-ad96d124ea6c"
      },
      "outputs": [
        {
          "output_type": "stream",
          "name": "stdout",
          "text": [
            "Digite seu nome danilo\n",
            "Olá, danilo Seja bem vindo\n"
          ]
        }
      ],
      "source": [
        "def nome_do_usuario():\n",
        "  nome = input(\"Digite seu nome \")\n",
        "  print (\"Olá,\",nome,\"Seja bem vindo\")\n",
        "nome_do_usuario()"
      ]
    },
    {
      "cell_type": "markdown",
      "source": [
        "Implemente uma função que receba como argumentos dois valores que o usuário informar, e retorne e a soma dos dois valores"
      ],
      "metadata": {
        "id": "7G6yVox9eLfo"
      }
    },
    {
      "cell_type": "code",
      "source": [
        "\n",
        "def calculo(num1,num2): \n",
        "  return num1 + num2\n",
        "resultado = calculo(3,3)\n",
        "print(resultado)\n",
        "\n",
        "  "
      ],
      "metadata": {
        "id": "PqeK1l2ReOCd",
        "colab": {
          "base_uri": "https://localhost:8080/"
        },
        "outputId": "eb9f75e4-5a19-4f10-a9e7-05f7723c21ad"
      },
      "execution_count": 8,
      "outputs": [
        {
          "output_type": "stream",
          "name": "stdout",
          "text": [
            "6\n"
          ]
        }
      ]
    },
    {
      "cell_type": "markdown",
      "source": [],
      "metadata": {
        "id": "t0MBsi9tlQmH"
      }
    },
    {
      "cell_type": "markdown",
      "source": [
        "Implemente uma função que recebe um número, e retorna se esse número é par ou não.  Use a lista numeros = [ 12, 356, 98,  89, 45, 12, 90, 34, 123, 834, 979 ] para fazer o uso da função"
      ],
      "metadata": {
        "id": "BBrtvKPbeOLg"
      }
    },
    {
      "cell_type": "code",
      "source": [
        "def function():\n",
        "  lista = [12, 356, 98, 89, 45, 12, 90, 34, 123, 834, 979]\n",
        "  for x in lista:\n",
        "    if x % 2 == 0:\n",
        "      print(x,\"é par\")\n",
        "    else:\n",
        "      print(x,'é ímpar')\n",
        "function()     "
      ],
      "metadata": {
        "id": "rE6EMKfYeQhN",
        "colab": {
          "base_uri": "https://localhost:8080/"
        },
        "outputId": "6b5d4a40-1f61-4e85-80d6-9a8ab6ee9dd8"
      },
      "execution_count": 14,
      "outputs": [
        {
          "output_type": "stream",
          "name": "stdout",
          "text": [
            "12 é par\n",
            "356 é par\n",
            "98 é par\n",
            "89 é ímpar\n",
            "45 é ímpar\n",
            "12 é par\n",
            "90 é par\n",
            "34 é par\n",
            "123 é ímpar\n",
            "834 é par\n",
            "979 é ímpar\n"
          ]
        }
      ]
    },
    {
      "cell_type": "markdown",
      "source": [
        "Faça uma função que receba a altura e o peso de um estudante e calcule e retorne seu IMC"
      ],
      "metadata": {
        "id": "CYpXcrnPeQs7"
      }
    },
    {
      "cell_type": "code",
      "source": [
        "def funcao():\n",
        "  altura = float(input(\"Digite sua altura: \"))\n",
        "  peso = float(input(\"Digite seu peso: \"))\n",
        "  IMC = float(peso/(altura*altura))\n",
        "  return \"o seu imc é\", IMC\n",
        "funcao()\n"
      ],
      "metadata": {
        "id": "GeikcHPkeTH5",
        "colab": {
          "base_uri": "https://localhost:8080/"
        },
        "outputId": "268fa4e4-db25-41c7-efaf-b268d4f67035"
      },
      "execution_count": 2,
      "outputs": [
        {
          "name": "stdout",
          "output_type": "stream",
          "text": [
            "Digite sua altura: 1.85\n",
            "Digite seu peso: 86.0\n"
          ]
        },
        {
          "output_type": "execute_result",
          "data": {
            "text/plain": [
              "('o seu imc é', 25.127830533235937)"
            ]
          },
          "metadata": {},
          "execution_count": 2
        }
      ]
    },
    {
      "cell_type": "markdown",
      "source": [
        "Faça uma função que recebe dois números informados pelo usuário e imprime na tela qual é o maior do dois"
      ],
      "metadata": {
        "id": "-s0aOJioeT1e"
      }
    },
    {
      "cell_type": "code",
      "source": [
        "def verify():\n",
        "  num1 = int(input(\"Digite seu numero: \"))\n",
        "  num2 = int(input(\"Digite seu numero \"))\n",
        "  if num1 > num2:\n",
        "    print(\"O numero maior é\",num1)\n",
        "  else:\n",
        "    print(\"O numero maior é\",num2)\n",
        "verify()"
      ],
      "metadata": {
        "id": "dAyRIDPYeZR4",
        "colab": {
          "base_uri": "https://localhost:8080/"
        },
        "outputId": "a346eb23-bc00-43e8-de06-11a04adc368b"
      },
      "execution_count": null,
      "outputs": [
        {
          "output_type": "stream",
          "name": "stdout",
          "text": [
            "Digite seu numero: 0\n",
            "Digite seu numero 1\n",
            "O numero maior é 1\n"
          ]
        }
      ]
    },
    {
      "cell_type": "markdown",
      "source": [
        "Faça uma função que receba uma lista de números n_lista= [ 12, 356, 98,  89, 45, 12, 90, 34, 123, 834, 979 ] e retorne  a média desses números"
      ],
      "metadata": {
        "id": "5JJZammreZeY"
      }
    },
    {
      "cell_type": "code",
      "source": [
        "def funcao():\n",
        "  n_lista = [12, 356, 98, 89, 45, 12, 90, 34, 123, 834, 979 ]\n",
        "  soma_lista = sum(n_lista)\n",
        "  media = soma_lista/11\n",
        "  return media\n",
        "funcao()"
      ],
      "metadata": {
        "id": "GeGDd52VecdR",
        "colab": {
          "base_uri": "https://localhost:8080/"
        },
        "outputId": "217f58fb-e704-449f-e018-90c6114d2ebd"
      },
      "execution_count": null,
      "outputs": [
        {
          "output_type": "execute_result",
          "data": {
            "text/plain": [
              "242.9090909090909"
            ]
          },
          "metadata": {},
          "execution_count": 45
        }
      ]
    },
    {
      "cell_type": "markdown",
      "source": [
        "Faça uma função que receba a lista acima e retorne o menor número"
      ],
      "metadata": {
        "id": "dpL-fSsiecm6"
      }
    },
    {
      "cell_type": "code",
      "source": [
        "def funcao():\n",
        "  n_lista = [12, 356, 98, 89, 45, 12, 90, 34, 123, 834, 979 ]\n",
        "  return n_lista[5]\n",
        "funcao()  "
      ],
      "metadata": {
        "id": "_CDUuzi0egvu"
      },
      "execution_count": null,
      "outputs": []
    },
    {
      "cell_type": "markdown",
      "source": [
        "Faça uma função que use a lista acima e retorne o maior número"
      ],
      "metadata": {
        "id": "AVqRI6eheg5o"
      }
    },
    {
      "cell_type": "code",
      "source": [
        "def funcao():\n",
        "  n_lista = [12, 356, 98, 89, 45, 12, 90, 34, 123, 834, 979 ]\n",
        "  return n_lista[10]\n",
        "funcao()  "
      ],
      "metadata": {
        "id": "kpXEhFY1epk1",
        "colab": {
          "base_uri": "https://localhost:8080/"
        },
        "outputId": "468fc703-b453-47bb-abb2-2b9cb08f2140"
      },
      "execution_count": null,
      "outputs": [
        {
          "output_type": "execute_result",
          "data": {
            "text/plain": [
              "979"
            ]
          },
          "metadata": {},
          "execution_count": 49
        }
      ]
    },
    {
      "cell_type": "markdown",
      "source": [
        "Crie uma função para deixar um nome somente com as iniciais maiúsculas, independente de como o usuário informar o nome. Receba o nome e use a função para formatá-lo"
      ],
      "metadata": {
        "id": "OJ_YExWaept7"
      }
    },
    {
      "cell_type": "code",
      "source": [
        "def funcao():\n",
        "  nome = input(\"Digite seu nome: \")\n",
        "  print(nome.title())\n",
        "funcao()"
      ],
      "metadata": {
        "id": "CpP_UFuberzR",
        "colab": {
          "base_uri": "https://localhost:8080/"
        },
        "outputId": "029b85fc-9015-45f9-bb58-7fbd9582ce35"
      },
      "execution_count": null,
      "outputs": [
        {
          "output_type": "stream",
          "name": "stdout",
          "text": [
            "Digite seu nome: danilo teixeira\n",
            "Danilo Teixeira\n"
          ]
        }
      ]
    },
    {
      "cell_type": "markdown",
      "source": [
        "Faça uma função que recebe uma lista de números e exclui da lista apenas os números pares"
      ],
      "metadata": {
        "id": "39v2TevEer97"
      }
    },
    {
      "cell_type": "code",
      "source": [
        "def funcao():\n",
        "  lista = []\n",
        "  for x in range(0,10):\n",
        "    numero = int(input(\"Digite seu número: \"))\n",
        "    lista.append(numero)\n",
        "    if lista[x] % 2 == 0:\n",
        "      del lista[x]\n",
        "      return lista\n",
        "funcao()"
      ],
      "metadata": {
        "id": "sZjIifzkeuxX",
        "colab": {
          "base_uri": "https://localhost:8080/"
        },
        "outputId": "9743bb8d-f75e-4e9b-e02a-b1095f09bd00"
      },
      "execution_count": null,
      "outputs": [
        {
          "name": "stdout",
          "output_type": "stream",
          "text": [
            "Digite seu número: 1\n",
            "Digite seu número: 5\n",
            "Digite seu número: 7\n",
            "Digite seu número: 13\n",
            "Digite seu número: 2\n"
          ]
        },
        {
          "output_type": "execute_result",
          "data": {
            "text/plain": [
              "[1, 5, 7, 13]"
            ]
          },
          "metadata": {},
          "execution_count": 59
        }
      ]
    },
    {
      "cell_type": "markdown",
      "source": [
        "Faça uma função que recebe a média final de um aluno por parâmetro e retorna o seu conceito, conforme a tabela abaixo:\n",
        "\n",
        "\n",
        "Nota Conceito de 0,0 a 4,9 D\n",
        "de 5,0 a 6,9 C\n",
        "de 7,0 a 8,9 B\n",
        "de 9,0 a 10,0 A\n",
        "\n"
      ],
      "metadata": {
        "id": "M3jJvx8HevEn"
      }
    },
    {
      "cell_type": "code",
      "source": [
        "def funcao():\n",
        "  media_final = float(input(\"Digite a sua média final: \"))\n",
        "  if media_final >= 0.0 and media_final <= 4.9:\n",
        "    print(\"Nota conceito D\")\n",
        "  elif media_final >= 5.0 and media_final <= 6.9:\n",
        "    print(\"Nota conceito C\")\n",
        "  elif media_final >= 7.0 and media_final <= 8.9:\n",
        "    print(\"Nota conceito B\")\n",
        "  elif media_final >= 9.0 and media_final <= 10.0:\n",
        "    print(\"Nota conceito A\")\n",
        "funcao()\n"
      ],
      "metadata": {
        "id": "2YHPHzLzfAa2",
        "colab": {
          "base_uri": "https://localhost:8080/"
        },
        "outputId": "efca73bc-86cd-4688-eb40-a0383c67b331"
      },
      "execution_count": null,
      "outputs": [
        {
          "output_type": "stream",
          "name": "stdout",
          "text": [
            "Digite a sua média final: 6.7\n",
            "Nota conceito C\n"
          ]
        }
      ]
    },
    {
      "cell_type": "markdown",
      "source": [
        "Faça uma função que recebe o diâmetro de uma circunferência e retorna a sua área; Use a expressão A = 2𝝅r², Onde A é a área, 𝝅=3,14, e r é o raio da circunferência, lembrando que r é igual ao diâmetro/2"
      ],
      "metadata": {
        "id": "72CsbVPtfA25"
      }
    },
    {
      "cell_type": "code",
      "source": [
        "def funcao():\n",
        "  diametro = float(input(\"Digite o diametro: \"))\n",
        "  raio = diametro/2\n",
        "  pi = 3.14\n",
        "  area = 2 *pi*(raio*raio)\n",
        "  return area\n",
        "funcao()"
      ],
      "metadata": {
        "id": "dShzmalafBi4",
        "colab": {
          "base_uri": "https://localhost:8080/"
        },
        "outputId": "a98dd78c-69d0-45c9-99ca-9376b5cf516d"
      },
      "execution_count": null,
      "outputs": [
        {
          "name": "stdout",
          "output_type": "stream",
          "text": [
            "Digite o diametro: 5\n"
          ]
        },
        {
          "output_type": "execute_result",
          "data": {
            "text/plain": [
              "39.25"
            ]
          },
          "metadata": {},
          "execution_count": 71
        }
      ]
    },
    {
      "cell_type": "markdown",
      "source": [
        "Faça uma função que calcula o valor de uma corrida de Uber. Essa função recebe como argumento a distância a ser percorrida. E calcula da seguinte forma: 5,75 fixo, mais 3,25 por quilômetro. Então solicite a distância da corrida e retorne o valor da corrida, com uma mensagem amigável"
      ],
      "metadata": {
        "id": "LqkcbtAefBtC"
      }
    },
    {
      "cell_type": "code",
      "source": [
        "def funcao(distancia):\n",
        "  preco_por_km = 3.25\n",
        "  valor = 5.75 + (distancia * preco_por_km)\n",
        "  return \"Caro passageiro o valor da sua corrida foi\", valor\n",
        "distancia = int(input(\"Informe a distância da sua corrida\"))\n",
        "funcao(distancia)"
      ],
      "metadata": {
        "id": "qI9wfuIsfEOO",
        "colab": {
          "base_uri": "https://localhost:8080/"
        },
        "outputId": "34f7ecb2-6e46-4c2d-9202-e7b59ad7e13a"
      },
      "execution_count": 17,
      "outputs": [
        {
          "name": "stdout",
          "output_type": "stream",
          "text": [
            "Informe a distância da sua corrida20\n"
          ]
        },
        {
          "output_type": "execute_result",
          "data": {
            "text/plain": [
              "('Caro passageiro o valor da sua corrida foi', 70.75)"
            ]
          },
          "metadata": {},
          "execution_count": 17
        }
      ]
    },
    {
      "cell_type": "markdown",
      "source": [
        "Crie uma função que recebe uma string e  valida o login do usuário, verificar se o nome contém apenas caracteres alfabéticos e possui menos que 30 caracteres, e outra função que recebe uma senha e valida se a senha possui apenas caracteres alfanuméricos. "
      ],
      "metadata": {
        "id": "SN3tbC1HfEXn"
      }
    },
    {
      "cell_type": "code",
      "source": [
        "def function():\n",
        "  login = input(\"Digite seu nome :\")\n",
        "  print (\"O valor {} é alfábetico ? {}\".format(login, login.isalpha()))\n",
        "  return login.count(login)\n",
        "function()\n",
        "def function2():\n",
        "  senha = input(\"Digite sua senha :\")\n",
        "  print (\"A senha {} é alfanumerica ? {} \".format(senha, senha.isalnum()))\n",
        "function2()\n"
      ],
      "metadata": {
        "id": "Lqmzap1vfHqB",
        "colab": {
          "base_uri": "https://localhost:8080/"
        },
        "outputId": "6667be9a-5e8b-42bd-8b79-1644db84e351"
      },
      "execution_count": 24,
      "outputs": [
        {
          "output_type": "stream",
          "name": "stdout",
          "text": [
            "Digite seu nome :Danilo\n",
            "O valor Danilo é alfábetico ? True\n",
            "Digite sua senha :Bola123\n",
            "A senha Bola123 é alfanumerica ? True \n"
          ]
        }
      ]
    },
    {
      "cell_type": "markdown",
      "source": [
        "Crie uma função validar_usuario(login, senha) que retorne True se o login e senha forem validados e False se algum não passa na validação. Imprima na tela se o “usuário e senha foram cadastrados com sucesso” ou “Há algum dado inválido”"
      ],
      "metadata": {
        "id": "eNoA89gC8O8A"
      }
    },
    {
      "cell_type": "code",
      "source": [],
      "metadata": {
        "id": "IQrDGq_G8DIh"
      },
      "execution_count": null,
      "outputs": []
    },
    {
      "cell_type": "markdown",
      "source": [
        "Vamos fazer uma calculadora simples. Faça uma função chamada operacao_aritmetica( ) que recebe 3 argumentos. Um número, outro número e um sinal aritmético (+, -, / ou *). Então solicite ao usuário os valores de entrada e chame a função operacao_aritmetica( ) , passe seus argumentos e imprima na tela o nome da operação e o resultado. Valide também se o usuário informou um operador inválido, quer dizer diferente de um dos  4 válidos (+, -, / ou *)"
      ],
      "metadata": {
        "id": "pUKrf-ZgfKnG"
      }
    },
    {
      "cell_type": "code",
      "source": [],
      "metadata": {
        "id": "PNNvy2oHfLNZ"
      },
      "execution_count": null,
      "outputs": []
    }
  ]
}