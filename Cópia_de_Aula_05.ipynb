{
  "nbformat": 4,
  "nbformat_minor": 0,
  "metadata": {
    "colab": {
      "provenance": [],
      "include_colab_link": true
    },
    "kernelspec": {
      "name": "python3",
      "display_name": "Python 3"
    },
    "language_info": {
      "name": "python"
    }
  },
  "cells": [
    {
      "cell_type": "markdown",
      "metadata": {
        "id": "view-in-github",
        "colab_type": "text"
      },
      "source": [
        "<a href=\"https://colab.research.google.com/github/danilot1/intensivo-python/blob/main/C%C3%B3pia_de_Aula_05.ipynb\" target=\"_parent\"><img src=\"https://colab.research.google.com/assets/colab-badge.svg\" alt=\"Open In Colab\"/></a>"
      ]
    },
    {
      "cell_type": "markdown",
      "source": [
        "# ATIVIDADE DE OPERAÇÕES COM STRINGS\n"
      ],
      "metadata": {
        "id": "DYJppDB-hTTT"
      }
    },
    {
      "cell_type": "markdown",
      "source": [
        "Crie uma string com o conteúdo “sou desenvolvedor  Nave Cícero Dias” e em seguida imprima na tela o tamanho dessa string"
      ],
      "metadata": {
        "id": "xeqfxDthhYlz"
      }
    },
    {
      "cell_type": "code",
      "execution_count": null,
      "metadata": {
        "id": "I5wxRcJUg_qK",
        "outputId": "7a01551c-04c4-4da2-f267-c34ffbf5ba2d",
        "colab": {
          "base_uri": "https://localhost:8080/"
        }
      },
      "outputs": [
        {
          "output_type": "stream",
          "name": "stdout",
          "text": [
            "34\n"
          ]
        }
      ],
      "source": [
        "frase = \"sou desenvolvedor Nave Cícero Dias\"\n",
        "tamanho = len(frase)\n",
        "print(tamanho)"
      ]
    },
    {
      "cell_type": "markdown",
      "source": [
        "Faça um programa que receba do usuário duas strings, e em seguida informe se elas têm o mesmo tamanho ou não"
      ],
      "metadata": {
        "id": "OK_omWZ2hc64"
      }
    },
    {
      "cell_type": "code",
      "source": [
        "frase = \"sou desenvolvedor Nave Cícero Dias\"\n",
        "frase2 = \"Não sou desenvolvedor Nave Cícero Dias\"\n",
        "tamanho1 = len(frase)\n",
        "tamanho2 = len(frase2)\n",
        "if tamanho1 == tamanho2:\n",
        "  print(\"Elas tem o mesmo tamanho\")\n",
        "elif tamanho1 != tamanho2:\n",
        "  print (\"Elas não tem o mesmo tamanho\")"
      ],
      "metadata": {
        "id": "bbh-AYUGhhfj",
        "colab": {
          "base_uri": "https://localhost:8080/"
        },
        "outputId": "440537e0-0a61-49ef-84e6-17edfac70699"
      },
      "execution_count": null,
      "outputs": [
        {
          "output_type": "stream",
          "name": "stdout",
          "text": [
            "Elas não tem o mesmo tamanho\n"
          ]
        }
      ]
    },
    {
      "cell_type": "markdown",
      "source": [
        "Faça um programa que leia duas strings e compare se seus conteúdos são iguais ou nã"
      ],
      "metadata": {
        "id": "0_XTa9wVhhm1"
      }
    },
    {
      "cell_type": "code",
      "source": [
        "frase = \"sou desenvolvedor Nave Cícero Dias\"\n",
        "frase2 = \"Não sou desenvolvedor Nave Cícero Dias\"\n",
        "if frase == frase2:\n",
        "  print(\"As strings são iguais\")\n",
        "else:\n",
        "  print(\"As strings não são iguais\")"
      ],
      "metadata": {
        "id": "XPqvZg_jhjmu",
        "colab": {
          "base_uri": "https://localhost:8080/"
        },
        "outputId": "2df7a248-6b17-4bfc-e1d4-9a4261977347"
      },
      "execution_count": null,
      "outputs": [
        {
          "output_type": "stream",
          "name": "stdout",
          "text": [
            "As strings não são iguais\n"
          ]
        }
      ]
    },
    {
      "cell_type": "markdown",
      "source": [
        "Faça um programa que leias suas strings e verifique qual delas tem o maior tamanho"
      ],
      "metadata": {
        "id": "gvE5OX16hjs9"
      }
    },
    {
      "cell_type": "code",
      "source": [
        "frase = \"sou desenvolvedor Nave Cícero Dias\"\n",
        "frase2 = \"Não sou desenvolvedor Nave Cícero Dias\"\n",
        "tamanho1 = len(frase)\n",
        "tamanho2 = len(frase2)\n",
        "if tamanho1 > tamanho2:\n",
        "  print(\"Frase é tem o maior tamanho\")\n",
        "elif tamanho2 > tamanho1:\n",
        "  print (\"Frase2 tem o maior tamanho\")"
      ],
      "metadata": {
        "id": "aBQd-GoYhlcr",
        "colab": {
          "base_uri": "https://localhost:8080/"
        },
        "outputId": "811ec963-1ae8-45a0-fc05-fb9911350d28"
      },
      "execution_count": null,
      "outputs": [
        {
          "output_type": "stream",
          "name": "stdout",
          "text": [
            "Frase2 tem o maior tamanho\n"
          ]
        }
      ]
    },
    {
      "cell_type": "markdown",
      "source": [
        "Faça um programa que recebe a idade de dois usuários. Em seguida imprima na tela a soma das idade, abaixo converta as idades para string e efetue o comando print(idade_1 + idade_2) veja o resultado. Foi igual a soma? Explique porque o resultado da impressão é igual ou diferente"
      ],
      "metadata": {
        "id": "2BgF4efbhllA"
      }
    },
    {
      "cell_type": "code",
      "source": [
        "idade1 =int(input(\"Digite a idade\"))\n",
        "idade2 =int(input(\"Digite a idade\"))\n",
        "soma = idade1+idade2\n",
        "print(\"Soma\", soma)\n",
        "idade1 = input(\"Digite a idade\")\n",
        "idade2 = input(\"Digite a idade\")\n",
        "soma2 = idade1 + idade2\n",
        "print(soma2)\n"
      ],
      "metadata": {
        "id": "Uj6BxkXWhoJl",
        "colab": {
          "base_uri": "https://localhost:8080/"
        },
        "outputId": "0d3f69ca-2a55-4db5-bc3b-e0a004858ff5"
      },
      "execution_count": null,
      "outputs": [
        {
          "output_type": "stream",
          "name": "stdout",
          "text": [
            "Digite a idade1\n",
            "Digite a idade1\n",
            "Soma 2\n",
            "Digite a idade1\n",
            "Digite a idade1\n",
            "11\n"
          ]
        }
      ]
    },
    {
      "cell_type": "markdown",
      "source": [
        "Faça um algoritmo que recebe o nome e sobrenome do usuário. Em seguida crie uma variável nome_completo que deve receber o nome completo do usuário. Imprima na tela de forma apresentável"
      ],
      "metadata": {
        "id": "J35hKzIJhoRZ"
      }
    },
    {
      "cell_type": "code",
      "source": [
        "nome = input(\"Digite seu nome: \")\n",
        "sobrenome = input(\"Digite seu sobrenome: \")\n",
        "nome_completo = nome + sobrenome\n",
        "print(nome_completo)"
      ],
      "metadata": {
        "id": "3bbqsafbhq2f",
        "colab": {
          "base_uri": "https://localhost:8080/"
        },
        "outputId": "d950e02b-c500-48d7-982f-3e2783a37339"
      },
      "execution_count": null,
      "outputs": [
        {
          "output_type": "stream",
          "name": "stdout",
          "text": [
            "Digite seu nome: danilo\n",
            "Digite seu sobrenome: t\n",
            "danilot\n"
          ]
        }
      ]
    },
    {
      "cell_type": "markdown",
      "source": [
        "Declare uma string: mensagem = \"Os alunos do cícero dias são os melhores programadores de Pernambuco\" em seguida conte quantos espaços em branco há nesse texto"
      ],
      "metadata": {
        "id": "6RWi3n4Zhq-l"
      }
    },
    {
      "cell_type": "code",
      "source": [
        "frase = \"Os alunos do cícero dias são os melhores programadores de Pernambuco\"\n",
        "espaço = len(frase.strip())\n",
        "print(espaço)\n"
      ],
      "metadata": {
        "id": "PL0fjm6VhvDe",
        "colab": {
          "base_uri": "https://localhost:8080/"
        },
        "outputId": "cfdaf3a4-d969-43ad-cc1c-f9d1531784f4"
      },
      "execution_count": null,
      "outputs": [
        {
          "output_type": "stream",
          "name": "stdout",
          "text": [
            "68\n"
          ]
        }
      ]
    },
    {
      "cell_type": "markdown",
      "source": [
        "Faça um algoritmo que imprima na tela cada letra do nome “joão gomes da silva”"
      ],
      "metadata": {
        "id": "o9LAOo8chvM2"
      }
    },
    {
      "cell_type": "code",
      "source": [
        "nome =\"joão gomes da silva\"\n",
        "for letra in nome:\n",
        "  print(letra)"
      ],
      "metadata": {
        "id": "xn04Ndywhx5g",
        "colab": {
          "base_uri": "https://localhost:8080/"
        },
        "outputId": "9e0d3186-1f2c-4bfe-9e0b-2efa1943a32b"
      },
      "execution_count": null,
      "outputs": [
        {
          "output_type": "stream",
          "name": "stdout",
          "text": [
            "j\n",
            "o\n",
            "ã\n",
            "o\n",
            " \n",
            "g\n",
            "o\n",
            "m\n",
            "e\n",
            "s\n",
            " \n",
            "d\n",
            "a\n",
            " \n",
            "s\n",
            "i\n",
            "l\n",
            "v\n",
            "a\n"
          ]
        }
      ]
    },
    {
      "cell_type": "markdown",
      "source": [
        "Faça um algoritmo que verifique se a letra ‘k’ está contida na string acima. Use o ‘in’ para fazer a verificação. Imprima a seguinte mensagem: “A letra k pertence/ não pertence  ao nome  informado”"
      ],
      "metadata": {
        "id": "mWbGvN6XhyB1"
      }
    },
    {
      "cell_type": "code",
      "source": [
        "nome =\"joão gomes da silva\"\n",
        "if \"k\" in nome:\n",
        "  print(\"A letra k pertence ao nome informado\")\n",
        "else:\n",
        "  print(\"A letra k não pertence ao nome informado\")"
      ],
      "metadata": {
        "id": "1BNR66z-h0cg",
        "colab": {
          "base_uri": "https://localhost:8080/"
        },
        "outputId": "99abd6f5-ab03-4a1a-e774-b78bd9e3e949"
      },
      "execution_count": null,
      "outputs": [
        {
          "output_type": "stream",
          "name": "stdout",
          "text": [
            "A letra k não pertence ao nome informado\n"
          ]
        }
      ]
    },
    {
      "cell_type": "markdown",
      "source": [
        "Faça um algoritmo que solicite o nome do usuário e imprima ele da seguinte forma:\n",
        "n\n",
        "no\n",
        "nom\n",
        "nome\n"
      ],
      "metadata": {
        "id": "2eJakHr6h0lo"
      }
    },
    {
      "cell_type": "code",
      "source": [
        "nome = input(\"digite seu nome: \")\n",
        "print(nome[:1])\n",
        "print(nome[:2])\n",
        "print(nome[:3])\n",
        "print(nome[:4])\n",
        "\n"
      ],
      "metadata": {
        "id": "szuBNhcth3wf",
        "colab": {
          "base_uri": "https://localhost:8080/"
        },
        "outputId": "ec3c52fa-caec-4086-f982-31909246064f"
      },
      "execution_count": null,
      "outputs": [
        {
          "output_type": "stream",
          "name": "stdout",
          "text": [
            "digite seu nome: nome\n",
            "n\n",
            "no\n",
            "nom\n",
            "nome\n"
          ]
        }
      ]
    },
    {
      "cell_type": "markdown",
      "source": [
        "Faça um algoritmo que solicite ao usuário sua data de nascimento no formato dd/mm/YYYY, sabendo que uma string como essa tem 10 caracteres, primeiramente valide se o valor informado pelo usuário possui a quantidade correta de caracteres, caso correto, exiba a seguinte mensagem “Você nasceu em 00 de janeiro de 1900” , caso a data esteja incorreta, exiba a mensagem “Data inválida”."
      ],
      "metadata": {
        "id": "XSH38kVIh35J"
      }
    },
    {
      "cell_type": "code",
      "source": [
        "data_de_nasc = input(\"Digite sua data de nascimento:\")\n",
        "tamanho = len(data_de_nasc)\n",
        "if tamanho == 10:\n",
        "  print(\"Você nasceu em\", data_de_nasc)\n",
        "else:\n",
        "  print(\"Data invalida\")"
      ],
      "metadata": {
        "id": "3GNnx1jjh6nR",
        "colab": {
          "base_uri": "https://localhost:8080/"
        },
        "outputId": "1e468f00-53a6-4fbb-e0b5-73131135d99e"
      },
      "execution_count": null,
      "outputs": [
        {
          "output_type": "stream",
          "name": "stdout",
          "text": [
            "Digite sua data de nascimento:11111111111111111\n",
            "Data invalida\n"
          ]
        }
      ]
    },
    {
      "cell_type": "markdown",
      "source": [
        "Faça um algoritmo que solicite o número de telefone do usuário com 9 dígitos, verifique se o usuário realmente digitou 9 dígitos e se todos os números. Caso positivo, retorne a mensagem número válido. Caso contrário, exiba número inválido."
      ],
      "metadata": {
        "id": "L7Om_QBdh6w9"
      }
    },
    {
      "cell_type": "code",
      "source": [
        "numero = input(\"Digite seu numero: \")\n",
        "tamanho = len(numero)\n",
        "if tamanho == 9: #and numero > 0:\n",
        "  print(\"Número válido\")\n",
        "else:\n",
        "  print(\"Número inválido\")"
      ],
      "metadata": {
        "id": "VoCv1AsBh9E0",
        "colab": {
          "base_uri": "https://localhost:8080/"
        },
        "outputId": "2a60e097-da25-46b4-c139-50e8c85f88af"
      },
      "execution_count": null,
      "outputs": [
        {
          "output_type": "stream",
          "name": "stdout",
          "text": [
            "Digite seu numero: 986893975\n",
            "Número válido\n"
          ]
        }
      ]
    },
    {
      "cell_type": "markdown",
      "source": [
        "Faça um algoritmo que solicite o nome completo do usuário e em seguida formate da seguinte forma. Primeiro, converta todo nome para minúsculo e em seguida coloque somente as primeiras letras do nome para maiúsculo."
      ],
      "metadata": {
        "id": "AHMk3PYuh9Na"
      }
    },
    {
      "cell_type": "code",
      "source": [
        "nome_completo = input(\"Digite seu nome completo: \")\n",
        "\n",
        "print(\" Minusculo: {} e depois {}\".format(nome_completo.lower(), nome_completo.title()))\n"
      ],
      "metadata": {
        "id": "A7LyTn1JTYyM",
        "colab": {
          "base_uri": "https://localhost:8080/"
        },
        "outputId": "48afbd38-20ee-4e7e-ff8b-c438fe436b56"
      },
      "execution_count": null,
      "outputs": [
        {
          "output_type": "stream",
          "name": "stdout",
          "text": [
            "Digite seu nome completo: Danilo\n",
            " Minusculo: danilo e depois Danilo\n"
          ]
        }
      ]
    },
    {
      "cell_type": "markdown",
      "source": [
        "Faça um algoritmo que solicite a 3 usuários seus nomes completos. Extraia cada nome para uma lista e exiba apenas o primeiro e último nome de cada usuário da seguinte forma, “Para o nome completo { }, o primeiro nome é { } e último nome é { }”."
      ],
      "metadata": {
        "id": "CzysuErciABG"
      }
    },
    {
      "cell_type": "code",
      "source": [
        "nome1 = input(\"Digite seu nome: \")\n",
        "nome2 = input(\"Digite seu nome: \")\n",
        "nome3 = input(\"Digite seu nome: \")\n",
        "lista1 = []\n",
        "lista2 = []\n",
        "lista3 = []\n",
        "lista1.append(nome1)\n",
        "lista2.append(nome2)\n",
        "lista3.append(nome3)\n",
        "\n",
        "vetor1 = nome1.split(\" \") \n",
        "vetor2 = nome2.split(\" \") \n",
        "vetor3 = nome3.split(\" \") \n",
        "ultimo_indice1 = len(vetor1) - 1\n",
        "ultimo_indice2 = len(vetor2) - 1\n",
        "ultimo_indice3 = len(vetor3) - 1\n",
        "\n",
        "print(f\"Para o nome completo {lista1}, o primeiro nome é {vetor1[0]} e último nome é {vetor1[ultimo_indice1]}\")\n",
        "print(f\"Para o nome completo {lista2}, o primeiro nome é {vetor2[0]} e último nome é {vetor2[ultimo_indice1]}\")\n",
        "print(f\"Para o nome completo {lista3}, o primeiro nome é {vetor3[0]} e último nome é {vetor3[ultimo_indice1]}\")"
      ],
      "metadata": {
        "id": "y0swKKZ9iB5s",
        "colab": {
          "base_uri": "https://localhost:8080/"
        },
        "outputId": "42b6a3c9-b35f-475b-a5fc-fd0a7bce1a3e"
      },
      "execution_count": null,
      "outputs": [
        {
          "output_type": "stream",
          "name": "stdout",
          "text": [
            "Digite seu nome: marcos nascimento\n",
            "Digite seu nome: carlos eduardo\n",
            "Digite seu nome: maria pereira\n",
            "Para o nome completo ['marcos nascimento'], o primeiro nome é marcos e último nome é nascimento\n",
            "Para o nome completo ['carlos eduardo'], o primeiro nome é carlos e último nome é eduardo\n",
            "Para o nome completo ['maria pereira'], o primeiro nome é maria e último nome é pereira\n"
          ]
        }
      ]
    },
    {
      "cell_type": "markdown",
      "source": [
        "Palíndromo é uma palavra que lida em qualquer sentido tem a mesma escrita. Exemplo, “ovo”, lida da esquerda pra direita, é igual da direita para a esquerda. Faça um algoritmo que solicite uma palavra ao usuário e verifique se essa palavra é um palíndromo. OBS: em python o comando “string”[::-1] inverte um texto."
      ],
      "metadata": {
        "id": "whg4QAFSiCCg"
      }
    },
    {
      "cell_type": "code",
      "source": [
        "palavra = input(\"Digite o nome: \")\n",
        "if palavra == palavra[::-1]:\n",
        "  print(\"É palindromo\")\n",
        "else:\n",
        "  print(\"Não é palindromo\")\n"
      ],
      "metadata": {
        "id": "GWPM1253iGCP",
        "colab": {
          "base_uri": "https://localhost:8080/"
        },
        "outputId": "f112c12e-86df-4dc6-f8a8-170b20bd1633"
      },
      "execution_count": null,
      "outputs": [
        {
          "output_type": "stream",
          "name": "stdout",
          "text": [
            "Digite o nome: saco\n",
            "Não é palindromo\n"
          ]
        }
      ]
    }
  ]
}